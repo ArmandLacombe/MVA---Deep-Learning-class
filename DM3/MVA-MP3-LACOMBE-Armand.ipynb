{
 "cells": [
  {
   "cell_type": "markdown",
   "metadata": {},
   "source": [
    "**You may need to install [OpenCV](https://pypi.python.org/pypi/opencv-python) and [scikit-video](http://www.scikit-video.org/stable/).**"
   ]
  },
  {
   "cell_type": "code",
   "execution_count": 1,
   "metadata": {},
   "outputs": [
    {
     "name": "stderr",
     "output_type": "stream",
     "text": [
      "Using TensorFlow backend.\n"
     ]
    }
   ],
   "source": [
    "import keras\n",
    "import numpy as np\n",
    "import io\n",
    "import base64\n",
    "from IPython.display import HTML\n",
    "import skvideo.io\n",
    "import cv2\n",
    "import json\n",
    "\n",
    "from keras.models import Sequential,model_from_json,Model\n",
    "from keras.layers.core import Dense\n",
    "from keras.optimizers import sgd\n",
    "from keras.layers import Conv2D, MaxPooling2D, Activation, AveragePooling2D,Reshape,BatchNormalization,Flatten,Input"
   ]
  },
  {
   "cell_type": "markdown",
   "metadata": {},
   "source": [
    "# MiniProject #3: Deep Reinforcement Learning"
   ]
  },
  {
   "cell_type": "markdown",
   "metadata": {},
   "source": [
    "__Notations__: $E_p$ is the expectation under probability $p$. Please justify each of your answer and widely comment your code."
   ]
  },
  {
   "cell_type": "markdown",
   "metadata": {},
   "source": [
    "# Context"
   ]
  },
  {
   "cell_type": "markdown",
   "metadata": {},
   "source": [
    "In a reinforcement learning algorithm, we modelize each step $t$ as an action $a_t$ obtained from a state $s_t$, i.e. $\\{(a_{t},s_{t})_{t\\leq T}\\}$ having the Markov property. We consider a discount factor $\\gamma \\in [0,1]$ that ensures convergence. The goal is to find among all the policies $\\pi$, one that maximizes the expected reward:\n",
    "\n",
    "\\begin{equation*}\n",
    "R(\\pi)=\\sum_{t\\leq T}E_{p^{\\pi}}[\\gamma^t r(s_{t},a_{t})] \\> ,\n",
    "\\end{equation*}\n",
    "\n",
    "where: \n",
    "\\begin{equation*}p^{\\pi}(a_{0},a_{1},s_{1},...,a_{T},s_{T})=p(a_{0})\\prod_{t=1}^{T}\\pi(a_{t}|s_{t})p(s_{t+1}|s_{t},a_{t}) \\> .\n",
    "\\end{equation*}\n",
    "\n",
    "We note the $Q$-function:\n",
    "\n",
    "\\begin{equation*}Q^\\pi(s,a)=E_{p^{\\pi}}[\\sum_{t\\leq T}\\gamma^{t}r(s_{t},a_{t})|s_{0}=s,a_{0}=a] \\> .\n",
    "\\end{equation*}\n",
    "\n",
    "Thus, the optimal Q function is:\n",
    "\\begin{equation*}\n",
    "Q^*(s,a)=\\max_{\\pi}Q^\\pi(s,a) \\> .\n",
    "\\end{equation*}\n",
    "\n",
    "In this project, we will apply the deep reinforcement learning techniques to a simple game: an agent will have to learn from scratch a policy that will permit it maximizing a reward."
   ]
  },
  {
   "cell_type": "markdown",
   "metadata": {},
   "source": [
    "## The environment, the agent and the game"
   ]
  },
  {
   "cell_type": "markdown",
   "metadata": {},
   "source": [
    "### The environment"
   ]
  },
  {
   "cell_type": "markdown",
   "metadata": {},
   "source": [
    "```Environment``` is an abstract class that represents the states, rewards, and actions to obtain the new state."
   ]
  },
  {
   "cell_type": "code",
   "execution_count": 2,
   "metadata": {
    "collapsed": true
   },
   "outputs": [],
   "source": [
    "class Environment(object):\n",
    "    def __init__(self):\n",
    "        pass\n",
    "\n",
    "    def act(self, act):\n",
    "        \"\"\"\n",
    "        One can act on the environment and obtain its reaction:\n",
    "        - the new state\n",
    "        - the reward of the new state\n",
    "        - should we continue the game?\n",
    "\n",
    "        :return: state, reward, game_over\n",
    "        \"\"\"\n",
    "        pass\n",
    "\n",
    "\n",
    "    def reset(self):\n",
    "        \"\"\"\n",
    "        Reinitialize the environment to a random state and returns\n",
    "        the original state\n",
    "\n",
    "        :return: state\n",
    "        \"\"\"\n",
    "        pass\n",
    "    \n",
    "    def draw(self):\n",
    "        \"\"\"\n",
    "        Visualize in the console or graphically the current state\n",
    "        \"\"\"\n",
    "        pass"
   ]
  },
  {
   "cell_type": "markdown",
   "metadata": {},
   "source": [
    "The method ```act``` allows to act on the environment at a given state $s_t$ (stored internally), via action $a_t$. The method will return the new state $s_{t+1}$, the reward $r(s_{t},a_{t})$ and determines if $t\\leq T$ (*game_over*).\n",
    "\n",
    "The method ```reset``` simply reinitializes the environment to a random state $s_0$.\n",
    "\n",
    "The method ```draw``` displays the current state $s_t$ (this is useful to check the behavior of the Agent).\n",
    "\n",
    "We modelize $s_t$ as a tensor, while $a_t$ is an integer."
   ]
  },
  {
   "cell_type": "markdown",
   "metadata": {},
   "source": [
    "### The Agent"
   ]
  },
  {
   "cell_type": "markdown",
   "metadata": {},
   "source": [
    "The goal of the ```Agent``` is to interact with the ```Environment``` by proposing actions $a_t$ obtained from a given state $s_t$ to attempt to maximize its __reward__ $r(s_t,a_t)$. We propose the following abstract class:"
   ]
  },
  {
   "cell_type": "code",
   "execution_count": 3,
   "metadata": {
    "collapsed": true
   },
   "outputs": [],
   "source": [
    "class Agent(object):\n",
    "    def __init__(self, epsilon=0.1, n_action=4):\n",
    "        self.epsilon = epsilon\n",
    "        self.n_action = n_action\n",
    "    \n",
    "    def set_epsilon(self,e):\n",
    "        self.epsilon = e\n",
    "\n",
    "    def act(self,s,train=True):\n",
    "        \"\"\" This function should return the next action to do:\n",
    "        an integer between 0 and 4 (not included) with a random exploration of epsilon\"\"\"\n",
    "        if train:\n",
    "            if np.random.rand() <= self.epsilon:\n",
    "                a = np.random.randint(0, self.n_action, size=1)[0]\n",
    "            else:\n",
    "                a = self.learned_act(s)\n",
    "        else: # in some cases, this can improve the performance.. remove it if poor performances\n",
    "            a = self.learned_act(s)\n",
    "\n",
    "        return a\n",
    "\n",
    "    def learned_act(self,s):\n",
    "        \"\"\" Act via the policy of the agent, from a given state s\n",
    "        it proposes an action a\"\"\"\n",
    "        pass\n",
    "\n",
    "    def reinforce(self, s, n_s, a, r, game_over_):\n",
    "        \"\"\" This function is the core of the learning algorithm. \n",
    "        It takes as an input the current state s_, the next state n_s_\n",
    "        the action a_ used to move from s_ to n_s_ and the reward r_.\n",
    "        \n",
    "        Its goal is to learn a policy.\n",
    "        \"\"\"\n",
    "        pass\n",
    "\n",
    "    def save(self):\n",
    "        \"\"\" This function returns basic stats if applicable: the\n",
    "        loss and/or the model\"\"\"\n",
    "        pass\n",
    "\n",
    "    def load(self):\n",
    "        \"\"\" This function allows to restore a model\"\"\"\n",
    "        pass"
   ]
  },
  {
   "cell_type": "markdown",
   "metadata": {},
   "source": [
    "***\n",
    "__Question 1__:\n",
    "Explain the function act. Why is ```epsilon``` essential?"
   ]
  },
  {
   "cell_type": "markdown",
   "metadata": {},
   "source": [
    "> During the training phase, the agent needs to explore, or else it would simply exploit its current strategy and that would prevent it from learning. This is a way to force it to explore.\n",
    "\n",
    "> During the test phase however, there is no need to do so, since the agent doesn't aim at learning better strategies, it simply exploits its policy to maximize its reward. "
   ]
  },
  {
   "cell_type": "markdown",
   "metadata": {},
   "source": [
    "***\n",
    "### The Game"
   ]
  },
  {
   "cell_type": "markdown",
   "metadata": {},
   "source": [
    "The ```Agent``` and the ```Environment``` work in an interlaced way as in the following (take some time to understand this code as it is the core of the project)\n",
    "\n",
    "```python\n",
    "\n",
    "epoch = 300\n",
    "env = Environment()\n",
    "agent = Agent()\n",
    "\n",
    "\n",
    "# Number of won games\n",
    "score = 0\n",
    "loss = 0\n",
    "\n",
    "\n",
    "for e in range(epoch):\n",
    "    # At each epoch, we restart to a fresh game and get the initial state\n",
    "    state = env.reset()\n",
    "    # This assumes that the games will end\n",
    "    game_over = False\n",
    "\n",
    "    win = 0\n",
    "    lose = 0\n",
    "    \n",
    "    while not game_over:\n",
    "        # The agent performs an action\n",
    "        action = agent.act(state)\n",
    "\n",
    "        # Apply an action to the environment, get the next state, the reward\n",
    "        # and if the games end\n",
    "        prev_state = state\n",
    "        state, reward, game_over = env.act(action)\n",
    "\n",
    "        # Update the counters\n",
    "        if reward > 0:\n",
    "            win = win + reward\n",
    "        if reward < 0:\n",
    "            lose = lose -reward\n",
    "\n",
    "        # Apply the reinforcement strategy\n",
    "        loss = agent.reinforce(prev_state, state,  action, reward, game_over)\n",
    "\n",
    "    # Save as a mp4\n",
    "    if e % 10 == 0:\n",
    "        env.draw(e)\n",
    "\n",
    "    # Update stats\n",
    "    score += win-lose\n",
    "\n",
    "    print(\"Epoch {:03d}/{:03d} | Loss {:.4f} | Win/lose count {}/{} ({})\"\n",
    "          .format(e, epoch, loss, win, lose, win-lose))\n",
    "    agent.save()\n",
    "```"
   ]
  },
  {
   "cell_type": "markdown",
   "metadata": {},
   "source": [
    "# The game, *eat cheese*"
   ]
  },
  {
   "cell_type": "markdown",
   "metadata": {},
   "source": [
    "A rat runs on an island and tries to eat as much as possible. The island is subdivided into $N\\times N$ cells, in which there are cheese (+0.5) and poisonous cells (-1). The rat has a visibility of 2 cells (thus it can see $5^2$ cells). The rat is given a time $T$ to accumulate as much food as possible. It can perform 4 actions: going up, down, left, right. \n",
    "\n",
    "The goal is to code an agent to solve this task that will learn by trial and error. We propose the following environment:"
   ]
  },
  {
   "cell_type": "code",
   "execution_count": 4,
   "metadata": {
    "collapsed": true
   },
   "outputs": [],
   "source": [
    "class Environment(object):\n",
    "    def __init__(self, grid_size=10, max_time=500, temperature=0.1):\n",
    "        grid_size = grid_size+4\n",
    "        self.grid_size = grid_size\n",
    "        self.max_time = max_time\n",
    "        self.temperature = temperature\n",
    "\n",
    "        #board on which one plays\n",
    "        self.board = np.zeros((grid_size,grid_size))\n",
    "        self.position = np.zeros((grid_size,grid_size))\n",
    "\n",
    "        # coordinate of the cat\n",
    "        self.x = 0\n",
    "        self.y = 1\n",
    "\n",
    "        # self time\n",
    "        self.t = 0\n",
    "\n",
    "        self.scale=16\n",
    "\n",
    "        self.to_draw = np.zeros((max_time+2, grid_size*self.scale, grid_size*self.scale, 3))\n",
    "\n",
    "\n",
    "    def draw(self,e):\n",
    "        skvideo.io.vwrite(str(e) + '.mp4', self.to_draw)\n",
    "\n",
    "    def get_frame(self,t):\n",
    "        b = np.zeros((self.grid_size,self.grid_size,3))+128\n",
    "        b[self.board>0,0] = 256\n",
    "        b[self.board < 0, 2] = 256\n",
    "        b[self.x,self.y,:]=256\n",
    "        b[-2:,:,:]=0\n",
    "        b[:,-2:,:]=0\n",
    "        b[:2,:,:]=0\n",
    "        b[:,:2,:]=0\n",
    "        \n",
    "        b =  cv2.resize(b, None, fx=self.scale, fy=self.scale, interpolation=cv2.INTER_NEAREST)\n",
    "\n",
    "        self.to_draw[t,:,:,:]=b\n",
    "\n",
    "\n",
    "    def act(self, action):\n",
    "        \"\"\"This function returns the new state, reward and decides if the\n",
    "        game ends.\"\"\"\n",
    "\n",
    "        self.get_frame(int(self.t))\n",
    "\n",
    "        self.position = np.zeros((self.grid_size, self.grid_size))\n",
    "\n",
    "        self.position[0:2,:]= -1\n",
    "        self.position[:,0:2] = -1\n",
    "        self.position[-2:, :] = -1\n",
    "        self.position[-2:, :] = -1\n",
    "\n",
    "        self.position[self.x, self.y] = 1\n",
    "        if action == 0:\n",
    "            if self.x == self.grid_size-3:\n",
    "                self.x = self.x-1\n",
    "            else:\n",
    "                self.x = self.x + 1\n",
    "        elif action == 1:\n",
    "            if self.x == 2:\n",
    "                self.x = self.x+1\n",
    "            else:\n",
    "                self.x = self.x-1\n",
    "        elif action == 2:\n",
    "            if self.y == self.grid_size - 3:\n",
    "                self.y = self.y - 1\n",
    "            else:\n",
    "                self.y = self.y + 1\n",
    "        elif action == 3:\n",
    "            if self.y == 2:\n",
    "                self.y = self.y + 1\n",
    "            else:\n",
    "                self.y = self.y - 1\n",
    "        else:\n",
    "            RuntimeError('Error: action not recognized')\n",
    "\n",
    "        self.t = self.t + 1\n",
    "        reward = self.board[self.x, self.y]\n",
    "        self.board[self.x, self.y] = 0\n",
    "        game_over = self.t > self.max_time\n",
    "        state = np.concatenate((self.board.reshape(self.grid_size, self.grid_size,1),\n",
    "                        self.position.reshape(self.grid_size, self.grid_size,1)),axis=2)\n",
    "        state = state[self.x-2:self.x+3,self.y-2:self.y+3,:]\n",
    "\n",
    "        return state, reward, game_over\n",
    "\n",
    "    def reset(self):\n",
    "        \"\"\"This function resets the game and returns the initial state\"\"\"\n",
    "\n",
    "        self.x = np.random.randint(3, self.grid_size-3, size=1)[0]\n",
    "        self.y = np.random.randint(3, self.grid_size-3, size=1)[0]\n",
    "\n",
    "\n",
    "        bonus = 0.5*np.random.binomial(1,self.temperature,size=self.grid_size**2)\n",
    "        bonus = bonus.reshape(self.grid_size,self.grid_size)\n",
    "\n",
    "        malus = -1.0*np.random.binomial(1,self.temperature,size=self.grid_size**2)\n",
    "        malus = malus.reshape(self.grid_size, self.grid_size)\n",
    "\n",
    "        self.to_draw = np.zeros((self.max_time+2, self.grid_size*self.scale, self.grid_size*self.scale, 3))\n",
    "\n",
    "\n",
    "        malus[bonus>0]=0\n",
    "\n",
    "        self.board = bonus + malus\n",
    "\n",
    "        self.position = np.zeros((self.grid_size, self.grid_size))\n",
    "        self.position[0:2,:]= -1\n",
    "        self.position[:,0:2] = -1\n",
    "        self.position[-2:, :] = -1\n",
    "        self.position[-2:, :] = -1\n",
    "        self.board[self.x,self.y] = 0\n",
    "        self.t = 0\n",
    "\n",
    "        state = np.concatenate((\n",
    "                               self.board.reshape(self.grid_size, self.grid_size,1),\n",
    "                        self.position.reshape(self.grid_size, self.grid_size,1)),axis=2)\n",
    "\n",
    "        state = state[self.x - 2:self.x + 3, self.y - 2:self.y + 3, :]\n",
    "        return state"
   ]
  },
  {
   "cell_type": "markdown",
   "metadata": {},
   "source": [
    "The following elements are important because they correspond to the hyper parameters for this project:"
   ]
  },
  {
   "cell_type": "code",
   "execution_count": 5,
   "metadata": {
    "collapsed": true
   },
   "outputs": [],
   "source": [
    "# parameters\n",
    "size = 13\n",
    "T=200\n",
    "temperature=0.3\n",
    "epochs_train=20 # set small when debugging\n",
    "epochs_test=20 # set small when debugging\n",
    "\n",
    "# display videos\n",
    "def display_videos(name):\n",
    "    video = io.open(name, 'r+b').read()\n",
    "    encoded = base64.b64encode(video)\n",
    "    return '''<video alt=\"test\" controls>\n",
    "                <source src=\"data:video/mp4;base64,{0}\" type=\"video/mp4\" />\n",
    "             </video>'''.format(encoded.decode('ascii'))"
   ]
  },
  {
   "cell_type": "markdown",
   "metadata": {},
   "source": [
    "__Question 2__ Explain the use of the arrays ```position``` and ```board```."
   ]
  },
  {
   "cell_type": "markdown",
   "metadata": {},
   "source": [
    "> The ```position``` array encodes the position of the agent on the grid: there is a $1$ where the agent is, and 0 elsewhere (and -1 values on the sides of the grid to prevent the agent from \"falling\" from it).\n",
    "\n",
    "> The ```board``` array encodes the maze with its rewards and penalties. Everytime the agent gets somewhere, its value becomes 0, meaning that there is no poison nor cheese left."
   ]
  },
  {
   "cell_type": "markdown",
   "metadata": {},
   "source": [
    "## Random Agent"
   ]
  },
  {
   "cell_type": "markdown",
   "metadata": {},
   "source": [
    "***\n",
    "__Question 3__ Implement a random Agent (only ```learned_act``` needs to be implemented):"
   ]
  },
  {
   "cell_type": "code",
   "execution_count": 6,
   "metadata": {
    "collapsed": true
   },
   "outputs": [],
   "source": [
    "class RandomAgent(Agent):\n",
    "    def __init__(self):\n",
    "        super(RandomAgent, self).__init__()\n",
    "        pass\n",
    "\n",
    "    def learned_act(self, s):\n",
    "        return np.random.randint(4)"
   ]
  },
  {
   "cell_type": "markdown",
   "metadata": {},
   "source": [
    "***\n",
    "***\n",
    "__Question 4__ Visualize the game moves. You need to fill in the following function for the evaluation:"
   ]
  },
  {
   "cell_type": "code",
   "execution_count": 7,
   "metadata": {
    "collapsed": true
   },
   "outputs": [],
   "source": [
    "def test(agent,env,epochs,prefix=''):\n",
    "    # Number of won games\n",
    "    score = 0\n",
    "        \n",
    "    for e in range(epochs):\n",
    "        \n",
    "        ##### FILL IN HERE\n",
    "        \n",
    "        # At each epoch, we restart to a fresh game and get the initial state\n",
    "        state = env.reset()\n",
    "        # This assumes that the games will end\n",
    "        game_over = False\n",
    "\n",
    "        win = 0\n",
    "        lose = 0\n",
    "\n",
    "        while not game_over:\n",
    "            # The agent performs an action\n",
    "            action = agent.act(state)\n",
    "\n",
    "            # Apply an action to the environment, get the next state, the reward\n",
    "            # and if the games end\n",
    "            prev_state = state\n",
    "            state, reward, game_over = env.act(action)\n",
    "\n",
    "            # Update the counters\n",
    "            if reward > 0:\n",
    "                win = win + reward\n",
    "            if reward < 0:\n",
    "                lose = lose -reward\n",
    "\n",
    "            # Apply the reinforcement strategy\n",
    "            loss = agent.reinforce(prev_state, state,  action, reward, game_over)\n",
    "        \n",
    "        ##### END FILL\n",
    "        \n",
    "        # Save as a mp4\n",
    "        env.draw(prefix+str(e))\n",
    "\n",
    "        # Update stats\n",
    "        score = score + win-lose\n",
    "\n",
    "        print(\"Win/lose count {}/{}. Average score ({})\"\n",
    "              .format(win, lose, score/(1+e)))\n",
    "    print('Final score: '+str(score/epochs))"
   ]
  },
  {
   "cell_type": "code",
   "execution_count": 12,
   "metadata": {},
   "outputs": [
    {
     "name": "stdout",
     "output_type": "stream",
     "text": [
      "Win/lose count 12.5/15.0. Average score (-2.5)\n",
      "Win/lose count 10.0/17.0. Average score (-4.75)\n",
      "Win/lose count 8.5/12.0. Average score (-4.333333333333333)\n",
      "Win/lose count 16.0/15.0. Average score (-3.0)\n",
      "Win/lose count 11.0/18.0. Average score (-3.8)\n",
      "Win/lose count 8.5/8.0. Average score (-3.0833333333333335)\n",
      "Win/lose count 7.0/9.0. Average score (-2.9285714285714284)\n",
      "Win/lose count 12.5/12.0. Average score (-2.5)\n",
      "Win/lose count 11.0/15.0. Average score (-2.6666666666666665)\n",
      "Win/lose count 12.5/16.0. Average score (-2.75)\n",
      "Win/lose count 5.0/10.0. Average score (-2.9545454545454546)\n",
      "Win/lose count 11.0/16.0. Average score (-3.125)\n",
      "Win/lose count 11.5/14.0. Average score (-3.076923076923077)\n",
      "Win/lose count 12.0/13.0. Average score (-2.9285714285714284)\n",
      "Win/lose count 8.0/12.0. Average score (-3.0)\n",
      "Win/lose count 11.0/16.0. Average score (-3.125)\n",
      "Win/lose count 13.0/18.0. Average score (-3.235294117647059)\n",
      "Win/lose count 16.0/22.0. Average score (-3.388888888888889)\n",
      "Win/lose count 6.5/11.0. Average score (-3.4473684210526314)\n",
      "Win/lose count 9.0/13.0. Average score (-3.475)\n",
      "Final score: -3.475\n"
     ]
    },
    {
     "data": {
      "text/html": [
       "<video alt=\"test\" controls>\n",
       "                <source src=\"data:video/mp4;base64,AAAAIGZ0eXBpc29tAAACAGlzb21pc28yYXZjMW1wNDEAAAAIZnJlZQAAGKdtZGF0AAACrQYF//+p3EXpvebZSLeWLNgg2SPu73gyNjQgLSBjb3JlIDE1NSByMjkwMSA3ZDBmZjIyIC0gSC4yNjQvTVBFRy00IEFWQyBjb2RlYyAtIENvcHlsZWZ0IDIwMDMtMjAxOCAtIGh0dHA6Ly93d3cudmlkZW9sYW4ub3JnL3gyNjQuaHRtbCAtIG9wdGlvbnM6IGNhYmFjPTEgcmVmPTMgZGVibG9jaz0xOjA6MCBhbmFseXNlPTB4MToweDExMSBtZT1oZXggc3VibWU9NyBwc3k9MSBwc3lfcmQ9MS4wMDowLjAwIG1peGVkX3JlZj0xIG1lX3JhbmdlPTE2IGNocm9tYV9tZT0xIHRyZWxsaXM9MSA4eDhkY3Q9MCBjcW09MCBkZWFkem9uZT0yMSwxMSBmYXN0X3Bza2lwPTEgY2hyb21hX3FwX29mZnNldD00IHRocmVhZHM9NiBsb29rYWhlYWRfdGhyZWFkcz0xIHNsaWNlZF90aHJlYWRzPTAgbnI9MCBkZWNpbWF0ZT0xIGludGVybGFjZWQ9MCBibHVyYXlfY29tcGF0PTAgY29uc3RyYWluZWRfaW50cmE9MCBiZnJhbWVzPTMgYl9weXJhbWlkPTIgYl9hZGFwdD0xIGJfYmlhcz0wIGRpcmVjdD0xIHdlaWdodGI9MSBvcGVuX2dvcD0wIHdlaWdodHA9MiBrZXlpbnQ9MjUwIGtleWludF9taW49MjUgc2NlbmVjdXQ9NDAgaW50cmFfcmVmcmVzaD0wIHJjX2xvb2thaGVhZD00MCByYz1jcmYgbWJ0cmVlPTEgY3JmPTIzLjAgcWNvbXA9MC42MCBxcG1pbj0wIHFwbWF4PTY5IHFwc3RlcD00IGlwX3JhdGlvPTEuNDAgYXE9MToxLjAwAIAAAANQZYiEADf//vaH+BTZWBP+Wb/9DX/cj9uPrP1xYyEE31qvIejAGS+1H+b/rFFs6Z6UB/fgCJQAc24ZwpIoZ/8CmWxwvgUK/HEacX14Wn+DO2SLIzvUB7PoXnbMYh2lZg1SfoNDe1bHZrEqqhEw6hzGCk5gKTx6vSL/uoF0QnWUhKVDSvx4rAOCG9BXw1adH/WRIxqqCKjmgpbHAV9Pe8wtgbgkCnwQgU6GU93fFT3xSFqYw+0nHwDOB0G6v2B83GUOCS3RCWapIS3qd33EyrF3kozB7nmaUi48PQihp5CBZHkbeUZoX0ZT9ht7b/AF9eEttP+wOSCFP1EMQBGQLHU01PDM7mA/CRbDOmTKhgg6Gjf6YOswA/IIwevYMGMO3Q5u/rm5qy9QzrDZoDNCR2lD4IEr0afmndFKm1Zsf1oxrxRK67Ef7slzJ+8MjDy02TX4sgMqtk+p0zK8wChEngDnwL3S+uVFqEoQAAdhUOu0v9QCcnGhgatvPhAAhKSWnMiBZ2e2x762VUazpjea6u6/a0vzhkrIBQqDNTec5Ny13V//4MtAXVwC+S5sCklSHBe/U2BrmlxapIC/UKHEQfJKmZOj9lOCSdQUTY923WbxYJKd8aY2QwAc/00sJ78UehKhsXpBzTLyDfM13VgudAw0fj8v9UbQpl1dYUh+s9Akgq7Rs5tUglSYCSU5oMESJNZr0tpXoHKCl1Ev4cV9tww0HmwKXq1uAB8zDVS9Mz1bMITHki1edkIMDsjFbxrXn7ZNDC3FL7lMEE8ZOZceY3S5b8sEifeogDx1IpNZiaAPRzLr2JXcEASKeQx6f4NHCf/N/66IN11BDr9gnf2P73U2m4GvTo2eJqDgBo5nUQSCVqjKa5kBHTbnzRMKLhTv8j0jgHwXex/hHRpucI/M1AtC+B5zMxq9pIBRDDYnYcGmxiM5Cx7u8DujBStu6tRtPeIrv1N5ITkibFv75/exNP5ezoEyjDr4brBX4QJC32RvCAQ5Iqw10piSfn8S4Oo9leOLNJPHEgNCYPKIxLKKrrBkvuHHs6IHwYOPyt4maEspVGX4jVDm5qOQk2LZHAvD8dYQJEw8ZH1yFelIqEFiuMcUXbTpH4u1skxF/bY9bgAABq0AAAARQZoibEN//qeEABUfjT+KB4AAAAAQAZ5BeQr/ABpksDZIBqTHowAAABhBmkM8IZMphDf//qeEAB+zjpWRI6ORbNIAAAAdQZplSeEPJlMFPDf//qeEABUfdT9qvLZ8KNbolyUAAAAPAZ6EakK/ABDZW6UaQ8bHAAAAG0GaiUnhDyZTAhn//p4QAE1EOdNgvRHX39MwwQAAABBBnqdFETwv/wAL8I4zuXZhAAAAEAGexnRCvwAP5GZEdizFJqgAAAAPAZ7IakK/AA/lgS5X+E1AAAAAGUGaykmoQWiZTAhv//6nhAAT/3U4/w+rbrsAAAAeQZrsSeEKUmUwURLDf/6nhAATb46fary2fCjW6JdBAAAADwGfC2pCvwAPiD+qRQJWqQAAABtBmw1J4Q6JlMCG//6nhAAMT8BgE1/hOC3QrREAAAAbQZsxSeEPJlMCG//+p4QADIurVMf6t2+wfr5FAAAAEEGfT0URPC//AAdtOnf5yakAAAAPAZ9udEK/AAaZ5N55xmCAAAAAEAGfcGpCvwAKPY8tw2bVsIAAAAAZQZtySahBaJlMCG///qeEAAyfsHr2Z8EXGwAAABlBm5VJ4QpSZTAhv/6nhAAMjaRDYOn4CIXAAAAAEUGfs0U0TCv/AAo9hWCQlcCBAAAADgGf1GpCvwAKPYmK4FAFAAAAGkGb1kmoQWiZTAh3//6plgAGW9pfzukKYSxQAAAAHkGb+knhClJlMCG//qeEAAf32D/LXzDEzjNU1uiZTwAAABNBnhhFNEwv/wAE1n+6zE+zpnt7AAAAEAGeN3RCvwAGmAQuA/KAHeAAAAAQAZ45akK/AAQ15omRNK1PQQAAABJBmj5JqEFomUwIZ//+nhAABHwAAAAQQZ5cRREsL/8ABNeM+b94EwAAAA8Bnnt0Qr8ABppLNwbJejkAAAAPAZ59akK/AAaYlpUigSxzAAAAGkGaf0moQWyZTAhv//6nhAAFI91P1HGhIhJAAAAAHUGagUnhClJlMFFSwz/+nhAADO+vv1QfNU4blDohAAAADwGeoGpCvwACstZTNsyPXgAAABlBmqJJ4Q6JlMCG//6nhAAE1QBZttn2fRlBAAAAGEGaw0nhDyZTAhv//qeEAAT3FaQQif5cmwAAAB5BmuVJ4Q8mUwURPDf//qeEAAfAHhxY1Lan7rPpbg8AAAAQAZ8EakK/AAZx1TyYHr56gQAAABlBmwhJ4Q8mUwIb//6nhAAMPSJ/qt8x+MPBAAAAEkGfJkURPCv/AAn1kQuw30vXSQAAABABn0dqQr8ACjqNEyJpWhVAAAAAGkGbSUmoQWiZTAh3//6plgAJgiw3RiEc+xvgAAAAGkGbbUnhClJlMCG//qeEABLvjp91u+0g0X+BAAAAFUGfi0U0TC//ABHceOmcV1MvP+N2JAAAABABn6p0Qr8AGIkWVeBFd5SAAAAAEAGfrGpCvwAYgltOvAFAQIEAAAAcQZuvSahBaJlMFPDf/qeEAAyfsH+cp14Ua3MmOQAAABABn85qQr8ACjtfOdaGF/DBAAAAHEGb0UnhClJlMFLDv/6plgAGAgs5QZoFPox+m74AAAAQAZ/wakK/AAmu0Qm4z69XmAAAABlBm/RJ4Q6JlMCHf/6plgAGC9peFqCf2EjBAAAAD0GeEkUVPCv/AAmsm4caQAAAAA8BnjNqQr8ACXBrAuv8SsAAAAAeQZo4SahBaJlMCHf//qmWAAXj31e/zd6gqFkKX9ahAAAAEEGeVkURLC//AAboPQ+zTjAAAAAQAZ51dEK/AAlrq0ZJb/Y3gQAAAA8BnndqQr8ABiAWNgcqWYEAAAAZQZp8SahBbJlMCG///qeEAAughl3b7B+vsQAAABBBnppFFSwv/wAG6EbvcF9BAAAAEAGeuXRCvwAJb5qgdO1EMYAAAAAPAZ67akK/AAlwaB5MEjmBAAAAGUGaoEmoQWyZTAhn//6eEAAtnum+0q5paXkAAAAQQZ7eRRUsL/8ABulXd/nKuAAAAA8Bnv10Qr8ACW2jFwH5pOAAAAAPAZ7/akK/AAlsrdKNIeRHAAAAGkGa4UmoQWyZTAhv//6nhAALV6J/qt8x+MnAAAAAGEGbAknhClJlMCG//qeEAAtnupx/h9W30wAAABpBmyVJ4Q6JlMCG//6nhAAQ746fdb43qXOMpAAAABJBn0NFETwr/wAN1DS7zGDtWicAAAAPAZ9kakK/AA3RMk1NA6vhAAAAHEGbZ0moQWiZTBTw3/6nhAALZ7qfutLM1Nui4YkAAAAQAZ+GakK/AAluaN5pirbWwQAAABlBm4pJ4QpSZTAhv/6nhAAHc9g/wnBboX9AAAAAEUGfqEU0TCv/AAZJm5rj3vYbAAAADwGfyWpCvwAGSJaVIoEskwAAABpBm8tJqEFomUwId//+qZYAAnPx50s6Op6DwAAAABxBm+9J4QpSZTAhv/6nhAAEu+On2q8tnwo1uib5AAAAEEGeDUU0TC//AALWykpbimEAAAAQAZ4sdEK/AAPLxPFJtkt5gQAAABABni5qQr8AA7ZqHP8y3mbBAAAAGkGaMUmoQWiZTBTw7/6plgACYL92o3x59M2AAAAAEAGeUGpCvwADzMweTA9fgYAAAAAbQZpVSeEKUmUwIb/+p4QABLvjp91pZmpt0XipAAAAEEGec0U0TC//AALXQIrSkXwAAAAPAZ6SdEK/AAX6yru83gvAAAAAEAGelGpCvwADzBEzTfSQgPEAAAAaQZqWSahBaJlMCHf//qmWAAGW9peFqCf2RMAAAAAaQZq6SeEKUmUwId/+qZYAAlC8QjqafRj9QZEAAAAQQZ7YRTRML/8AAsTLFQhGkQAAABABnvd0Qr8AA7cZkR2LMVQIAAAADwGe+WpCvwADt2BLlf5mwQAAABxBmv5JqEFomUwId//+qZYAA6Q6gWiTco3x59JDAAAAEkGfHEURLC//AARXP2a18Cpy/QAAABABnzt0Qr8AA7XFmeV+SnoJAAAAEAGfPWpCvwAF+dqOV/biREAAAAAaQZsiSahBbJlMCHf//qmWAAOp7S/r+vp1B4AAAAAQQZ9ARRUsL/8ABFc/ZuCScQAAAA8Bn390Qr8ABfklEKYJXYAAAAAPAZ9hakK/AAX4lpUigSyzAAAAGUGbZkmoQWyZTAh3//6plgADpLpj/faX3g8AAAAQQZ+ERRUsL/8ABFaAzXXJwQAAABABn6N0Qr8ABfpFlXgRXomBAAAADwGfpWpCvwAF+sQPJgldgQAAABNBm6pJqEFsmUwId//+qZYAAJWBAAAADEGfyEUVLC//AACygAAAABABn+d0Qr8ABec5O/AB9z3AAAAADwGf6WpCvwAF5zk3WerQ6QAAABJBm+5JqEFsmUwIb//+p4QAAScAAAAUQZ4MRRUsL/8ABEoYPWUD30WUrHgAAAAPAZ4rdEK/AAX4A+KTbJZZAAAAEAGeLWpCvwAF+dU8mB6+iYEAAAAdQZowSahBbJlMFEw3//6nhAAHR9g/zyCtUyEi5tkAAAAQAZ5PakK/AAYhm5rjxVt/YAAAABFBmlRJ4QpSZTAhv/6nhAABJwAAABNBnnJFNEwv/wAC6ZLcpmPmIizjAAAAEAGekXRCvwAD+Nga2mUPncAAAAAQAZ6TakK/AAP3zhr3mlaqYAAAABpBmpVJqEFomUwIb//+p4QAB2jjP9VvmPx3oQAAABlBmrZJ4QpSZTAh3/6plgAF2+QZoA9JfZiQAAAAGkGa2knhDomUwIb//qeEAAuvup+63faQaOpBAAAAEEGe+EURPC//AAbpV43sGXkAAAAPAZ8XdEK/AA6FisYQq59AAAAAEAGfGWpCvwAJbLIYfQEg70kAAAAcQZscSahBaJlMFPDv/qmWAAPV7S/r+q1CyFLpfQAAABABnztqQr8ABkiO3OtDDBrBAAAAGUGbP0nhClJlMCHf/qmWAAJz8edLOjqeg8EAAAAPQZ9dRTRMK/8AA+IK4evAAAAADwGffmpCvwAF+StjCs4LwAAAABtBm2NJqEFomUwIb//+p4QABLvjp91xMVui8VEAAAAQQZ+BRREsL/8AAtdAitKRfAAAAA8Bn6B0Qr8AA8xegMkvEIEAAAAQAZ+iakK/AAPirg1x4q3P4AAAABpBm6VJqEFsmUwUTDv//qmWAAJgqcR/fV95UwAAABABn8RqQr8AA+HOGveaVqvBAAAAG0GbyUnhClJlMCG//qeEAAcQHia41RL9E/yTyQAAABBBn+dFNEwv/wAENz9zhZ4JAAAADwGeBnRCvwAF+sq7vN4LwAAAABABnghqQr8ABdLIhNxn1684AAAAGUGaC0moQWiZTBTw7/6plgADk+0v7FrOJIcAAAAQAZ4qakK/AAX5m5rjxVuAoAAAABlBmi5J4QpSZTAh3/6plgADpJkJNw4KPoBwAAAAEkGeTEU0TCv/AAX524XYb6Xu+QAAABABnm1qQr8ABiAWNe80rSzBAAAAEkGackmoQWiZTAhv//6nhAABJwAAAAxBnpBFESwv/wAAsoAAAAAQAZ6vdEK/AAkwgDn9aBzWwAAAAA8BnrFqQr8ABec5N1nq0OkAAAAaQZq1SahBbJlMCG///qeEAAdoHhTrOn3XvoAAAAASQZ7TRRUsK/8ABiHVvYWC/UGAAAAAEAGe9GpCvwAGIdqW4bNrK4EAAAAaQZr4SahBbJlMCG///qeEAAufon+q3zH4x8AAAAASQZ8WRRUsK/8ACW7RC7DfS9fZAAAADwGfN2pCvwAJbtEJwQO9IQAAABlBmztJqEFsmUwIb//+p4QAC+urSCET/LfDAAAAEkGfWUUVLCv/AA6D8DopaSwdPQAAAA8Bn3pqQr8ADoBEzU0DqeAAAAAdQZt9SahBbJlMFEw3//6nhAAS0fM1Nm3Gb3U+My0AAAAQAZ+cakK/AA8zPCHjQ1lhgQAAABxBm59J4QpSZTBSw3/+p4QAEu+On3Wlmam3RbmoAAAAEAGfvmpCvwAPirg1x4q2uOAAAAAZQZugSeEOiZTAh3/+qZYABlvaX87pCmEsUQAAABtBm8RJ4Q8mUwId//6plgAEB+PP5mhUC0UxEEoAAAAUQZ/iRRE8L/8ABNaA5ww49Ltx33EAAAAQAZ4BdEK/AAaYBC4D8oAd4AAAAA8BngNqQr8ABFdiPJgevtcAAAAXQZoISahBaJlMCG///qeEAAg3x0+2j4EAAAAOQZ4mRREsL/8ABPqAm9EAAAAQAZ5FdEK/AARJYt2XVfxUwQAAABABnkdqQr8ABsErYvV2HPHAAAAAHUGaSkmoQWyZTBRMO//+qZYABACjqEGaBT6Mfp08AAAAEAGeaWpCvwAGwBY17zStI8EAAAAZQZptSeEKUmUwId/+qZYABlKkGaAPSX2WsAAAAA9BnotFNEwr/wAKO24E5EAAAAAPAZ6sakK/AAqCjRNSVCWBAAAAG0GasUmoQWiZTAhv//6nhAAMn7B/nKjwA+axMQAAABBBns9FESwv/wAHbTp3+cmpAAAADwGe7nRCvwAPjYrGEKuYwAAAAA8BnvBqQr8ACjtt0o0h5CEAAAAcQZr1SahBbJlMCG///qeEAAvrq2Yn+rt7qftg+QAAABBBnxNFFSwv/wAHE/iryM9gAAAAEAGfMnRCvwAJr6iRPizFLzAAAAAPAZ80akK/AAmwawLr/EjBAAAAGkGbNkmoQWyZTAhv//6nhAASVAFm22fZ843AAAAAGEGbWUnhClJlMCG//qeEABJvo5oK1mU2pwAAAA9Bn3dFNEwr/wAO2CuG88EAAAANAZ+YakK/AA7dfjCnngAAABJBm51JqEFomUwIb//+p4QAAScAAAAMQZ+7RREsL/8AALKAAAAAEAGf2nRCvwAOWsAxHZdmCoEAAAAQAZ/cakK/AA5awDezx9wpgQAAABlBm95JqEFsmUwIb//+p4QAEe+jmgrWZTavAAAAG0Gb4UnhClJlMCG//qeEABr6RP9VvqoHD/E9IAAAABFBnh9FNEwr/wAWKx3/RyRWLwAAAA4BniBqQr8AFiseua9YvAAAAB5BmiVJqEFomUwIZ//+nhAAbH19+qcgMj9SnUbjtx0AAAAQQZ5DRREsL/8AEFnvt1eGLgAAAA8BnmJ0Qr8AFrtHeecXXoEAAAAQAZ5kakK/ABYm5DD6AkHPaQAAABpBmmlLqEIQWyRGCCgH8gH9h4AhX/44QAARcQAAACNBnodFFSwv/wIB3OpL2zMKuYDoGrWoXAlAGWiTwt8ykzScMQAAABABnqZ0Qr8AFr6Ac/rQOVQgAAAAJgGeqGpCvwKvY+1BxN2qw0km5aqGByy1u80qI5AIOk4EZNwonVIwAAAMCG1vb3YAAABsbXZoZAAAAAAAAAAAAAAAAAAAA+gAAB+QAAEAAAEAAAAAAAAAAAAAAAABAAAAAAAAAAAAAAAAAAAAAQAAAAAAAAAAAAAAAAAAQAAAAAAAAAAAAAAAAAAAAAAAAAAAAAAAAAAAAAAAAAIAAAsydHJhawAAAFx0a2hkAAAAAwAAAAAAAAAAAAAAAQAAAAAAAB+QAAAAAAAAAAAAAAAAAAAAAAABAAAAAAAAAAAAAAAAAAAAAQAAAAAAAAAAAAAAAAAAQAAAAAEQAAABEAAAAAAAJGVkdHMAAAAcZWxzdAAAAAAAAAABAAAfkAAABAAAAQAAAAAKqm1kaWEAAAAgbWRoZAAAAAAAAAAAAAAAAAAAMgAAAZQAVcQAAAAAAC1oZGxyAAAAAAAAAAB2aWRlAAAAAAAAAAAAAAAAVmlkZW9IYW5kbGVyAAAAClVtaW5mAAAAFHZtaGQAAAABAAAAAAAAAAAAAAAkZGluZgAAABxkcmVmAAAAAAAAAAEAAAAMdXJsIAAAAAEAAAoVc3RibAAAAJVzdHNkAAAAAAAAAAEAAACFYXZjMQAAAAAAAAABAAAAAAAAAAAAAAAAAAAAAAEQARAASAAAAEgAAAAAAAAAAQAAAAAAAAAAAAAAAAAAAAAAAAAAAAAAAAAAAAAAAAAAABj//wAAAC9hdmNDAfQADf/hABdn9AANkZsoIhHQgAAAAwCAAAAZB4oUywEABWjr48RIAAAAGHN0dHMAAAAAAAAAAQAAAMoAAAIAAAAAFHN0c3MAAAAAAAAAAQAAAAEAAAXgY3R0cwAAAAAAAAC6AAAAAQAABAAAAAABAAAGAAAAAAEAAAIAAAAAAQAABAAAAAABAAAGAAAAAAEAAAIAAAAAAQAACgAAAAABAAAEAAAAAAEAAAAAAAAAAQAAAgAAAAABAAAEAAAAAAEAAAYAAAAAAQAAAgAAAAABAAAEAAAAAAEAAAoAAAAAAQAABAAAAAABAAAAAAAAAAEAAAIAAAAAAQAABAAAAAABAAAIAAAAAAIAAAIAAAAAAQAABAAAAAABAAAKAAAAAAEAAAQAAAAAAQAAAAAAAAABAAACAAAAAAEAAAoAAAAAAQAABAAAAAABAAAAAAAAAAEAAAIAAAAAAQAABAAAAAABAAAGAAAAAAEAAAIAAAAAAgAABAAAAAABAAAGAAAAAAEAAAIAAAAAAQAACAAAAAACAAACAAAAAAEAAAQAAAAAAQAACgAAAAABAAAEAAAAAAEAAAAAAAAAAQAAAgAAAAABAAAGAAAAAAEAAAIAAAAAAQAABgAAAAABAAACAAAAAAEAAAgAAAAAAgAAAgAAAAABAAAKAAAAAAEAAAQAAAAAAQAAAAAAAAABAAACAAAAAAEAAAoAAAAAAQAABAAAAAABAAAAAAAAAAEAAAIAAAAAAQAACgAAAAABAAAEAAAAAAEAAAAAAAAAAQAAAgAAAAACAAAEAAAAAAEAAAgAAAAAAgAAAgAAAAABAAAGAAAAAAEAAAIAAAAAAQAACAAAAAACAAACAAAAAAEAAAQAAAAAAQAACgAAAAABAAAEAAAAAAEAAAAAAAAAAQAAAgAAAAABAAAGAAAAAAEAAAIAAAAAAQAACgAAAAABAAAEAAAAAAEAAAAAAAAAAQAAAgAAAAABAAAEAAAAAAEAAAoAAAAAAQAABAAAAAABAAAAAAAAAAEAAAIAAAAAAQAACgAAAAABAAAEAAAAAAEAAAAAAAAAAQAAAgAAAAABAAAKAAAAAAEAAAQAAAAAAQAAAAAAAAABAAACAAAAAAEAAAoAAAAAAQAABAAAAAABAAAAAAAAAAEAAAIAAAAAAQAACgAAAAABAAAEAAAAAAEAAAAAAAAAAQAAAgAAAAABAAAKAAAAAAEAAAQAAAAAAQAAAAAAAAABAAACAAAAAAEAAAYAAAAAAQAAAgAAAAABAAAKAAAAAAEAAAQAAAAAAQAAAAAAAAABAAACAAAAAAIAAAQAAAAAAQAACgAAAAABAAAEAAAAAAEAAAAAAAAAAQAAAgAAAAABAAAGAAAAAAEAAAIAAAAAAQAACAAAAAACAAACAAAAAAEAAAoAAAAAAQAABAAAAAABAAAAAAAAAAEAAAIAAAAAAQAABgAAAAABAAACAAAAAAEAAAoAAAAAAQAABAAAAAABAAAAAAAAAAEAAAIAAAAAAQAABgAAAAABAAACAAAAAAEAAAgAAAAAAgAAAgAAAAABAAAKAAAAAAEAAAQAAAAAAQAAAAAAAAABAAACAAAAAAEAAAgAAAAAAgAAAgAAAAABAAAIAAAAAAIAAAIAAAAAAQAACAAAAAACAAACAAAAAAEAAAYAAAAAAQAAAgAAAAABAAAGAAAAAAEAAAIAAAAAAQAABAAAAAABAAAKAAAAAAEAAAQAAAAAAQAAAAAAAAABAAACAAAAAAEAAAoAAAAAAQAABAAAAAABAAAAAAAAAAEAAAIAAAAAAQAABgAAAAABAAACAAAAAAEAAAgAAAAAAgAAAgAAAAABAAAKAAAAAAEAAAQAAAAAAQAAAAAAAAABAAACAAAAAAEAAAoAAAAAAQAABAAAAAABAAAAAAAAAAEAAAIAAAAAAQAABAAAAAABAAAIAAAAAAIAAAIAAAAAAQAACgAAAAABAAAEAAAAAAEAAAAAAAAAAQAAAgAAAAABAAAEAAAAAAEAAAgAAAAAAgAAAgAAAAABAAAKAAAAAAEAAAQAAAAAAQAAAAAAAAABAAACAAAAAAEAAAoAAAAAAQAABAAAAAABAAAAAAAAAAEAAAIAAAAAHHN0c2MAAAAAAAAAAQAAAAEAAADKAAAAAQAAAzxzdHN6AAAAAAAAAAAAAADKAAAGBQAAABUAAAAUAAAAHAAAACEAAAATAAAAHwAAABQAAAAUAAAAEwAAAB0AAAAiAAAAEwAAAB8AAAAfAAAAFAAAABMAAAAUAAAAHQAAAB0AAAAVAAAAEgAAAB4AAAAiAAAAFwAAABQAAAAUAAAAFgAAABQAAAATAAAAEwAAAB4AAAAhAAAAEwAAAB0AAAAcAAAAIgAAABQAAAAdAAAAFgAAABQAAAAeAAAAHgAAABkAAAAUAAAAFAAAACAAAAAUAAAAIAAAABQAAAAdAAAAEwAAABMAAAAiAAAAFAAAABQAAAATAAAAHQAAABQAAAAUAAAAEwAAAB0AAAAUAAAAEwAAABMAAAAeAAAAHAAAAB4AAAAWAAAAEwAAACAAAAAUAAAAHQAAABUAAAATAAAAHgAAACAAAAAUAAAAFAAAABQAAAAeAAAAFAAAAB8AAAAUAAAAEwAAABQAAAAeAAAAHgAAABQAAAAUAAAAEwAAACAAAAAWAAAAFAAAABQAAAAeAAAAFAAAABMAAAATAAAAHQAAABQAAAAUAAAAEwAAABcAAAAQAAAAFAAAABMAAAAWAAAAGAAAABMAAAAUAAAAIQAAABQAAAAVAAAAFwAAABQAAAAUAAAAHgAAAB0AAAAeAAAAFAAAABMAAAAUAAAAIAAAABQAAAAdAAAAEwAAABMAAAAfAAAAFAAAABMAAAAUAAAAHgAAABQAAAAfAAAAFAAAABMAAAAUAAAAHQAAABQAAAAdAAAAFgAAABQAAAAWAAAAEAAAABQAAAATAAAAHgAAABYAAAAUAAAAHgAAABYAAAATAAAAHQAAABYAAAATAAAAIQAAABQAAAAgAAAAFAAAAB0AAAAfAAAAGAAAABQAAAATAAAAGwAAABIAAAAUAAAAFAAAACEAAAAUAAAAHQAAABMAAAATAAAAHwAAABQAAAATAAAAEwAAACAAAAAUAAAAFAAAABMAAAAeAAAAHAAAABMAAAARAAAAFgAAABAAAAAUAAAAFAAAAB0AAAAfAAAAFQAAABIAAAAiAAAAFAAAABMAAAAUAAAAHgAAACcAAAAUAAAAKgAAABRzdGNvAAAAAAAAAAEAAAAwAAAAYnVkdGEAAABabWV0YQAAAAAAAAAhaGRscgAAAAAAAAAAbWRpcmFwcGwAAAAAAAAAAAAAAAAtaWxzdAAAACWpdG9vAAAAHWRhdGEAAAABAAAAAExhdmY1OC4xMi4xMDA=\" type=\"video/mp4\" />\n",
       "             </video>"
      ],
      "text/plain": [
       "<IPython.core.display.HTML object>"
      ]
     },
     "execution_count": 12,
     "metadata": {},
     "output_type": "execute_result"
    }
   ],
   "source": [
    "# Initialize the game\n",
    "env = Environment(grid_size=size, max_time=T,temperature=temperature)\n",
    "\n",
    "# Initialize the agent!\n",
    "agent = RandomAgent()\n",
    "\n",
    "test(agent,env,epochs_test,prefix='random')\n",
    "HTML(display_videos('random10.mp4'))"
   ]
  },
  {
   "cell_type": "markdown",
   "metadata": {},
   "source": [
    "***\n",
    "## DQN"
   ]
  },
  {
   "cell_type": "markdown",
   "metadata": {},
   "source": [
    "Let us assume here that $T=\\infty$.\n",
    "\n",
    "***\n",
    "__Question 5__ Let $\\pi$ be a policy, show that:\n",
    "\n",
    "\\begin{equation*}\n",
    "Q^{\\pi}(s,a)=E_{(s',a')\\sim p(.|s,a)}[r(s,a)+\\gamma Q^{\\pi}(s',a')]\n",
    "\\end{equation*}\n",
    "\n",
    "Then, show that for the optimal policy $\\pi^*$ (we assume its existence), the following holds: \n",
    "\n",
    "\\begin{equation*}\n",
    "Q^{*}(s,a)=E_{s'\\sim \\pi^*(.|s,a)}[r(s,a)+\\gamma\\max_{a'}Q^{*}(s',a')].\n",
    "\\end{equation*}\n",
    "Finally, deduce that a plausible objective is:\n",
    "\n",
    "\\begin{equation*}\n",
    "\\mathcal{L}(\\theta)=E_{s' \\sim \\pi^*(.|s,a)}\\Vert r+\\gamma\\max\\max_{a'}Q(s',a',\\theta)-Q(s,a,\\theta)\\Vert^{2}.\n",
    "\\end{equation*}\n",
    "\n",
    "\n"
   ]
  },
  {
   "cell_type": "markdown",
   "metadata": {},
   "source": []
  },
  {
   "cell_type": "markdown",
   "metadata": {},
   "source": [
    "***\n",
    "The DQN-learning algorithm relies on these derivations to train the parameters $\\theta$ of a Deep Neural Network:\n",
    "\n",
    "1. At the state $s_t$, select the action $a_t$ with best reward using $Q_t$ and store the results;\n",
    "\n",
    "2. Obtain the new state $s_{t+1}$ from the environment $p$;\n",
    "\n",
    "3. Store $(s_t,a_t,s_{t+1})$;\n",
    "\n",
    "4. Obtain $Q_{t+1}$ by minimizing  $\\mathcal{L}$ from a recovered batch from the previously stored results.\n",
    "\n",
    "***\n",
    "__Question 6__ Implement the class ```Memory``` that stores moves (in a replay buffer) via ```remember``` and provides a ```random_access``` to these. Specify a maximum memory size to avoid side effects. You can for example use a ```list()``` and set by default ```max_memory=100```."
   ]
  },
  {
   "cell_type": "code",
   "execution_count": 13,
   "metadata": {
    "collapsed": true
   },
   "outputs": [],
   "source": [
    "class Memory(object):\n",
    "    def __init__(self, max_memory=100):\n",
    "        self.max_memory = max_memory\n",
    "        self.memory = list()\n",
    "\n",
    "    def remember(self, m):\n",
    "        self.memory.append(m)\n",
    "        if len(self.memory) > self.max_memory:\n",
    "            self.memory.pop(0)\n",
    "\n",
    "    def random_access(self):\n",
    "        if len(self.memory) > 0:\n",
    "            return self.memory[np.random.randint(len(self.memory))]\n",
    "        else:\n",
    "            RuntimeError('Error: empty memory')"
   ]
  },
  {
   "cell_type": "markdown",
   "metadata": {},
   "source": [
    "***\n",
    "The pipeline we will use for training is given below:"
   ]
  },
  {
   "cell_type": "code",
   "execution_count": 14,
   "metadata": {
    "collapsed": true
   },
   "outputs": [],
   "source": [
    "def train(agent,env,epoch,prefix=''):\n",
    "    # Number of won games\n",
    "    score = 0\n",
    "    loss = 0\n",
    "\n",
    "    for e in range(epoch):\n",
    "        # At each epoch, we restart to a fresh game and get the initial state\n",
    "        state = env.reset()\n",
    "        # This assumes that the games will terminate\n",
    "        game_over = False\n",
    "\n",
    "        win = 0\n",
    "        lose = 0\n",
    "\n",
    "        while not game_over:\n",
    "            # The agent performs an action\n",
    "            action = agent.act(state)\n",
    "\n",
    "            # Apply an action to the environment, get the next state, the reward\n",
    "            # and if the games end\n",
    "            prev_state = state\n",
    "            state, reward, game_over = env.act(action)\n",
    "\n",
    "            # Update the counters\n",
    "            if reward > 0:\n",
    "                win = win + reward\n",
    "            if reward < 0:\n",
    "                lose = lose -reward\n",
    "\n",
    "            # Apply the reinforcement strategy\n",
    "            loss = agent.reinforce(prev_state, state,  action, reward, game_over)\n",
    "\n",
    "        # Save as a mp4\n",
    "        if e % 10 == 0:\n",
    "            env.draw(prefix+str(e))\n",
    "\n",
    "        # Update stats\n",
    "        score += win-lose\n",
    "\n",
    "        print(\"Epoch {:03d}/{:03d} | Loss {:.4f} | Win/lose count {}/{} ({})\"\n",
    "              .format(e, epoch, loss, win, lose, win-lose))\n",
    "        agent.save(name_weights=prefix+'model.h5',name_model=prefix+'model.json')"
   ]
  },
  {
   "cell_type": "markdown",
   "metadata": {},
   "source": [
    "***\n",
    "__Question 7__ Implement the DQN training algorithm using a cascade of fully connected layers. You can use different learning rate, batch size or memory size parameters. In particular, the loss might oscillate while the player will start to win the games. You have to find a good criterium."
   ]
  },
  {
   "cell_type": "code",
   "execution_count": 33,
   "metadata": {
    "collapsed": true
   },
   "outputs": [],
   "source": [
    "class DQN(Agent):\n",
    "    def __init__(self, grid_size,  epsilon = 0.1, memory_size=100, batch_size = 16,n_state=2):\n",
    "        super(DQN, self).__init__(epsilon = epsilon)\n",
    "\n",
    "        # Discount for Q learning\n",
    "        self.discount = 0.99\n",
    "        \n",
    "        self.grid_size = grid_size\n",
    "        \n",
    "        # number of state\n",
    "        self.n_state = n_state\n",
    "\n",
    "        # Memory\n",
    "        self.memory = Memory(memory_size)\n",
    "        \n",
    "        # Batch size when learning\n",
    "        self.batch_size = batch_size\n",
    "\n",
    "    def learned_act(self, s):\n",
    "        #pass\n",
    "        tmp = self.model.predict(s.reshape(-1,s.shape[0],s.shape[1],s.shape[2]))\n",
    "        return np.argmax(tmp)\n",
    "\n",
    "    def reinforce(self, s_, n_s_, a_, r_, game_over_):\n",
    "        # Two steps: first memorize the states, second learn from the pool\n",
    "\n",
    "        self.memory.remember([s_, n_s_, a_, r_, game_over_])\n",
    "        \n",
    "        input_states = np.zeros((self.batch_size, 5,5,self.n_state))\n",
    "        target_q = np.zeros((self.batch_size, 4))\n",
    "        \n",
    "        for i in range(self.batch_size):\n",
    "            [sb, n_sb, ab, rb, game_overb] = self.memory.random_access()\n",
    "            \n",
    "            #print(self.model.summary())\n",
    "            #print(self.model.input_shape)\n",
    "            \n",
    "            if game_overb:\n",
    "                tmp = rb \n",
    "            else:\n",
    "                #print(sb.shape)\n",
    "                input_states[i] = sb\n",
    "                #print(np.transpose(n_sb).reshape((1,-1)))\n",
    "                #print(n_sb)\n",
    "                #print(n_sb.reshape(1,n_sb.shape[0],n_sb.shape[1],n_sb.shape[2]))\n",
    "                n_preds = self.model.predict(n_sb.reshape(1,n_sb.shape[0],n_sb.shape[1],n_sb.shape[2]))\n",
    "                tmp = rb + self.discount * np.max(n_preds)\n",
    "            \n",
    "            target_q[i] = self.model.predict(sb.reshape(1,n_sb.shape[0],n_sb.shape[1],n_sb.shape[2]))\n",
    "            target_q[i][ab] = tmp\n",
    "        \n",
    "        # HINT: Clip the target to avoid exploiding gradients.. -- clipping is a bit tighter\n",
    "        target_q = np.clip(target_q, -3, 3)\n",
    "\n",
    "        l = self.model.train_on_batch(input_states.reshape(-1,n_sb.shape[0],n_sb.shape[1],n_sb.shape[2]), target_q.reshape(-1,1,1,4))\n",
    "\n",
    "\n",
    "        return l\n",
    "\n",
    "    def save(self,name_weights='model.h5',name_model='model.json'):\n",
    "        self.model.save_weights(name_weights, overwrite=True)\n",
    "        with open(name_model, \"w\") as outfile:\n",
    "            json.dump(self.model.to_json(), outfile)\n",
    "            \n",
    "    def load(self,name_weights='model.h5',name_model='model.json'):\n",
    "        with open(name_model, \"r\") as jfile:\n",
    "            model = model_from_json(json.load(jfile))\n",
    "        model.load_weights(name_weights)\n",
    "        model.compile(\"sgd\", \"mse\")\n",
    "        self.model = model\n",
    "\n",
    "            \n",
    "class DQN_FC(DQN):\n",
    "    def __init__(self, *args, lr=0.1,**kwargs):\n",
    "        super(DQN_FC, self).__init__( *args,**kwargs)\n",
    "        \n",
    "        # NN Model\n",
    "        \n",
    "        ####### FILL IN\n",
    "        \n",
    "        #Input(shape=(5,5,2))\n",
    "        model = Sequential([\n",
    "            #Flatten(),\n",
    "            Conv2D(50, (5, 5), activation='relu', input_shape=(5,5,3)),\n",
    "            #Dense(50, activation='relu'),\n",
    "            Dense(50, activation='relu'),\n",
    "            Dense(4, activation='relu'),\n",
    "        ])\n",
    "        \n",
    "        ####### END\n",
    "        \n",
    "        model.compile(sgd(lr=lr, decay=1e-4, momentum=0.0), \"mse\")\n",
    "        self.model = model\n",
    "        "
   ]
  },
  {
   "cell_type": "code",
   "execution_count": 17,
   "metadata": {
    "scrolled": true
   },
   "outputs": [
    {
     "name": "stdout",
     "output_type": "stream",
     "text": [
      "_________________________________________________________________\n",
      "Layer (type)                 Output Shape              Param #   \n",
      "=================================================================\n",
      "conv2d_2 (Conv2D)            (None, 1, 1, 50)          2550      \n",
      "_________________________________________________________________\n",
      "dense_3 (Dense)              (None, 1, 1, 50)          2550      \n",
      "_________________________________________________________________\n",
      "dense_4 (Dense)              (None, 1, 1, 4)           204       \n",
      "=================================================================\n",
      "Total params: 5,304\n",
      "Trainable params: 5,304\n",
      "Non-trainable params: 0\n",
      "_________________________________________________________________\n",
      "None\n",
      "Epoch 000/100 | Loss 0.0109 | Win/lose count 4.0/2.0 (2.0)\n",
      "Epoch 001/100 | Loss 0.0035 | Win/lose count 3.0/3.0 (0.0)\n",
      "Epoch 002/100 | Loss 0.0050 | Win/lose count 3.0/3.0 (0.0)\n",
      "Epoch 003/100 | Loss 0.0092 | Win/lose count 1.5/1.0 (0.5)\n",
      "Epoch 004/100 | Loss 0.0237 | Win/lose count 1.5/6.0 (-4.5)\n",
      "Epoch 005/100 | Loss 0.0036 | Win/lose count 3.0/2.0 (1.0)\n",
      "Epoch 006/100 | Loss 0.0269 | Win/lose count 3.5/1.0 (2.5)\n",
      "Epoch 007/100 | Loss 0.0356 | Win/lose count 4.0/0 (4.0)\n",
      "Epoch 008/100 | Loss 0.0011 | Win/lose count 3.5/1.0 (2.5)\n",
      "Epoch 009/100 | Loss 0.0722 | Win/lose count 2.5/1.0 (1.5)\n",
      "Epoch 010/100 | Loss 0.0412 | Win/lose count 3.5/1.0 (2.5)\n",
      "Epoch 011/100 | Loss 0.0018 | Win/lose count 2.5/1.0 (1.5)\n",
      "Epoch 012/100 | Loss 0.1228 | Win/lose count 2.5/4.0 (-1.5)\n",
      "Epoch 013/100 | Loss 0.0892 | Win/lose count 3.0/5.0 (-2.0)\n",
      "Epoch 014/100 | Loss 0.0904 | Win/lose count 0/7.0 (-7.0)\n",
      "Epoch 015/100 | Loss 0.0459 | Win/lose count 7.5/1.0 (6.5)\n",
      "Epoch 016/100 | Loss 0.0048 | Win/lose count 5.0/3.0 (2.0)\n",
      "Epoch 017/100 | Loss 0.0725 | Win/lose count 6.5/2.0 (4.5)\n",
      "Epoch 018/100 | Loss 0.0530 | Win/lose count 9.0/2.0 (7.0)\n",
      "Epoch 019/100 | Loss 0.0013 | Win/lose count 0.5/2.0 (-1.5)\n",
      "Epoch 020/100 | Loss 0.0044 | Win/lose count 2.5/2.0 (0.5)\n",
      "Epoch 021/100 | Loss 0.0018 | Win/lose count 2.5/0 (2.5)\n",
      "Epoch 022/100 | Loss 0.0537 | Win/lose count 7.5/6.0 (1.5)\n",
      "Epoch 023/100 | Loss 0.0563 | Win/lose count 6.5/6.0 (0.5)\n",
      "Epoch 024/100 | Loss 0.0591 | Win/lose count 7.0/3.0 (4.0)\n",
      "Epoch 025/100 | Loss 0.0505 | Win/lose count 3.0/4.0 (-1.0)\n",
      "Epoch 026/100 | Loss 0.1176 | Win/lose count 7.0/5.0 (2.0)\n",
      "Epoch 027/100 | Loss 0.0007 | Win/lose count 13.0/4.0 (9.0)\n",
      "Epoch 028/100 | Loss 0.1029 | Win/lose count 3.5/4.0 (-0.5)\n",
      "Epoch 029/100 | Loss 0.0050 | Win/lose count 8.0/2.0 (6.0)\n",
      "Epoch 030/100 | Loss 0.0579 | Win/lose count 7.0/1.0 (6.0)\n",
      "Epoch 031/100 | Loss 0.0027 | Win/lose count 4.5/2.0 (2.5)\n",
      "Epoch 032/100 | Loss 0.0771 | Win/lose count 7.0/6.0 (1.0)\n",
      "Epoch 033/100 | Loss 0.0021 | Win/lose count 8.0/2.0 (6.0)\n",
      "Epoch 034/100 | Loss 0.0550 | Win/lose count 5.0/2.0 (3.0)\n",
      "Epoch 035/100 | Loss 0.0035 | Win/lose count 3.0/2.0 (1.0)\n",
      "Epoch 036/100 | Loss 0.0013 | Win/lose count 5.5/1.0 (4.5)\n",
      "Epoch 037/100 | Loss 0.0742 | Win/lose count 5.5/2.0 (3.5)\n",
      "Epoch 038/100 | Loss 0.0013 | Win/lose count 8.0/3.0 (5.0)\n",
      "Epoch 039/100 | Loss 0.0216 | Win/lose count 3.0/1.0 (2.0)\n",
      "Epoch 040/100 | Loss 0.1012 | Win/lose count 11.0/2.0 (9.0)\n",
      "Epoch 041/100 | Loss 0.0535 | Win/lose count 11.0/3.0 (8.0)\n",
      "Epoch 042/100 | Loss 0.1584 | Win/lose count 7.0/1.0 (6.0)\n",
      "Epoch 043/100 | Loss 0.1059 | Win/lose count 6.0/5.0 (1.0)\n",
      "Epoch 044/100 | Loss 0.0011 | Win/lose count 6.0/1.0 (5.0)\n",
      "Epoch 045/100 | Loss 0.0009 | Win/lose count 3.5/3.0 (0.5)\n",
      "Epoch 046/100 | Loss 0.0458 | Win/lose count 12.0/3.0 (9.0)\n",
      "Epoch 047/100 | Loss 0.0023 | Win/lose count 6.0/4.0 (2.0)\n",
      "Epoch 048/100 | Loss 0.0022 | Win/lose count 9.0/1.0 (8.0)\n",
      "Epoch 049/100 | Loss 0.1290 | Win/lose count 9.5/3.0 (6.5)\n",
      "Epoch 050/100 | Loss 0.0544 | Win/lose count 10.0/2.0 (8.0)\n",
      "Epoch 051/100 | Loss 0.0041 | Win/lose count 4.0/1.0 (3.0)\n",
      "Epoch 052/100 | Loss 0.0718 | Win/lose count 14.0/1.0 (13.0)\n",
      "Epoch 053/100 | Loss 0.0024 | Win/lose count 7.5/2.0 (5.5)\n",
      "Epoch 054/100 | Loss 0.0761 | Win/lose count 12.5/2.0 (10.5)\n",
      "Epoch 055/100 | Loss 0.0578 | Win/lose count 0.5/0 (0.5)\n",
      "Epoch 056/100 | Loss 0.0023 | Win/lose count 3.0/2.0 (1.0)\n",
      "Epoch 057/100 | Loss 0.0012 | Win/lose count 4.5/2.0 (2.5)\n",
      "Epoch 058/100 | Loss 0.0022 | Win/lose count 9.5/1.0 (8.5)\n",
      "Epoch 059/100 | Loss 0.0502 | Win/lose count 11.0/2.0 (9.0)\n",
      "Epoch 060/100 | Loss 0.0548 | Win/lose count 7.5/0 (7.5)\n",
      "Epoch 061/100 | Loss 0.0010 | Win/lose count 9.5/0 (9.5)\n",
      "Epoch 062/100 | Loss 0.2193 | Win/lose count 6.0/3.0 (3.0)\n",
      "Epoch 063/100 | Loss 0.0345 | Win/lose count 5.0/3.0 (2.0)\n",
      "Epoch 064/100 | Loss 0.0009 | Win/lose count 5.5/2.0 (3.5)\n",
      "Epoch 065/100 | Loss 0.1090 | Win/lose count 6.5/2.0 (4.5)\n",
      "Epoch 066/100 | Loss 0.0961 | Win/lose count 5.5/1.0 (4.5)\n",
      "Epoch 067/100 | Loss 0.1039 | Win/lose count 8.5/5.0 (3.5)\n",
      "Epoch 068/100 | Loss 0.0028 | Win/lose count 7.5/5.0 (2.5)\n",
      "Epoch 069/100 | Loss 0.0036 | Win/lose count 7.5/6.0 (1.5)\n",
      "Epoch 070/100 | Loss 0.0551 | Win/lose count 8.0/7.0 (1.0)\n",
      "Epoch 071/100 | Loss 0.0445 | Win/lose count 7.5/3.0 (4.5)\n",
      "Epoch 072/100 | Loss 0.0474 | Win/lose count 5.0/2.0 (3.0)\n",
      "Epoch 073/100 | Loss 0.0016 | Win/lose count 5.0/3.0 (2.0)\n",
      "Epoch 074/100 | Loss 0.0015 | Win/lose count 10.5/5.0 (5.5)\n",
      "Epoch 075/100 | Loss 0.1797 | Win/lose count 5.5/2.0 (3.5)\n",
      "Epoch 076/100 | Loss 0.1086 | Win/lose count 1.5/1.0 (0.5)\n",
      "Epoch 077/100 | Loss 0.1079 | Win/lose count 5.0/1.0 (4.0)\n",
      "Epoch 078/100 | Loss 0.0313 | Win/lose count 12.0/0 (12.0)\n",
      "Epoch 079/100 | Loss 0.0538 | Win/lose count 14.0/4.0 (10.0)\n",
      "Epoch 080/100 | Loss 0.1526 | Win/lose count 9.0/1.0 (8.0)\n",
      "Epoch 081/100 | Loss 0.0512 | Win/lose count 8.5/1.0 (7.5)\n",
      "Epoch 082/100 | Loss 0.0552 | Win/lose count 3.5/4.0 (-0.5)\n",
      "Epoch 083/100 | Loss 0.1058 | Win/lose count 3.0/5.0 (-2.0)\n",
      "Epoch 084/100 | Loss 0.1247 | Win/lose count 9.5/3.0 (6.5)\n",
      "Epoch 085/100 | Loss 0.1237 | Win/lose count 0/0 (0)\n",
      "Epoch 086/100 | Loss 0.0679 | Win/lose count 16.0/1.0 (15.0)\n",
      "Epoch 087/100 | Loss 0.0347 | Win/lose count 8.0/2.0 (6.0)\n",
      "Epoch 088/100 | Loss 0.0577 | Win/lose count 8.5/3.0 (5.5)\n",
      "Epoch 089/100 | Loss 0.0047 | Win/lose count 12.0/1.0 (11.0)\n",
      "Epoch 090/100 | Loss 0.0524 | Win/lose count 11.5/7.0 (4.5)\n",
      "Epoch 091/100 | Loss 0.0208 | Win/lose count 2.5/3.0 (-0.5)\n",
      "Epoch 092/100 | Loss 0.0055 | Win/lose count 4.0/0 (4.0)\n",
      "Epoch 093/100 | Loss 0.0904 | Win/lose count 8.0/3.0 (5.0)\n",
      "Epoch 094/100 | Loss 0.0030 | Win/lose count 13.0/2.0 (11.0)\n",
      "Epoch 095/100 | Loss 0.0049 | Win/lose count 17.0/1.0 (16.0)\n",
      "Epoch 096/100 | Loss 0.0027 | Win/lose count 16.5/4.0 (12.5)\n",
      "Epoch 097/100 | Loss 0.0527 | Win/lose count 11.0/1.0 (10.0)\n",
      "Epoch 098/100 | Loss 0.0026 | Win/lose count 3.0/2.0 (1.0)\n",
      "Epoch 099/100 | Loss 0.0020 | Win/lose count 3.0/3.0 (0.0)\n"
     ]
    },
    {
     "data": {
      "text/html": [
       "<video alt=\"test\" controls>\n",
       "                <source src=\"data:video/mp4;base64,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\" type=\"video/mp4\" />\n",
       "             </video>"
      ],
      "text/plain": [
       "<IPython.core.display.HTML object>"
      ]
     },
     "execution_count": 17,
     "metadata": {},
     "output_type": "execute_result"
    }
   ],
   "source": [
    "epochs_train=100 # set small when debugging\n",
    "\n",
    "env = Environment(grid_size=size, max_time=T, temperature=0.3)\n",
    "agent = DQN_FC(size, lr=.1, epsilon = 0.1, memory_size=2000, batch_size = 32)\n",
    "print(agent.model.summary())\n",
    "train(agent, env, epochs_train, prefix='fc_train')\n",
    "HTML(display_videos('fc_train90.mp4'))"
   ]
  },
  {
   "cell_type": "markdown",
   "metadata": {},
   "source": [
    "***\n",
    "***\n",
    "__Question 8__ Implement the DQN training algorithm using a CNN (for example, 2 convolutional layers and one final fully connected layer)."
   ]
  },
  {
   "cell_type": "code",
   "execution_count": 45,
   "metadata": {
    "collapsed": true
   },
   "outputs": [],
   "source": [
    "class DQN_CNN(DQN):\n",
    "    def __init__(self, *args,lr=0.1,**kwargs):\n",
    "        super(DQN_CNN, self).__init__(*args,**kwargs)\n",
    "        \n",
    "        ###### FILL IN\n",
    "        \n",
    "        model = Sequential()\n",
    "        #print(model.input_shape)\n",
    "        model.add(Conv2D(32, (3, 3), activation='relu', input_shape=(5,5,3)))\n",
    "        model.add(Conv2D(32, (3, 3), activation='relu'))\n",
    "        model.add(Dense(4, activation='relu'))\n",
    "\n",
    "        ####### END\n",
    "        \n",
    "        model.compile(sgd(lr=lr, decay=1e-4, momentum=0.0), \"mse\")\n",
    "        self.model = model"
   ]
  },
  {
   "cell_type": "code",
   "execution_count": 25,
   "metadata": {},
   "outputs": [
    {
     "name": "stdout",
     "output_type": "stream",
     "text": [
      "Epoch 000/100 | Loss 0.0005 | Win/lose count 1.5/4.0 (-2.5)\n",
      "Epoch 001/100 | Loss 0.0067 | Win/lose count 3.5/7.0 (-3.5)\n",
      "Epoch 002/100 | Loss 0.0025 | Win/lose count 8.5/5.0 (3.5)\n",
      "Epoch 003/100 | Loss 0.0280 | Win/lose count 9.5/5.0 (4.5)\n",
      "Epoch 004/100 | Loss 0.0253 | Win/lose count 7.5/5.0 (2.5)\n",
      "Epoch 005/100 | Loss 0.0460 | Win/lose count 2.0/1.0 (1.0)\n",
      "Epoch 006/100 | Loss 0.0023 | Win/lose count 10.5/1.0 (9.5)\n",
      "Epoch 007/100 | Loss 0.0052 | Win/lose count 8.0/6.0 (2.0)\n",
      "Epoch 008/100 | Loss 0.0034 | Win/lose count 4.0/2.0 (2.0)\n",
      "Epoch 009/100 | Loss 0.0016 | Win/lose count 7.5/3.0 (4.5)\n",
      "Epoch 010/100 | Loss 0.0034 | Win/lose count 4.0/5.0 (-1.0)\n",
      "Epoch 011/100 | Loss 0.0014 | Win/lose count 10.5/2.0 (8.5)\n",
      "Epoch 012/100 | Loss 0.0037 | Win/lose count 6.5/2.0 (4.5)\n",
      "Epoch 013/100 | Loss 0.0474 | Win/lose count 8.5/3.0 (5.5)\n",
      "Epoch 014/100 | Loss 0.0016 | Win/lose count 8.5/4.0 (4.5)\n",
      "Epoch 015/100 | Loss 0.0427 | Win/lose count 6.5/2.0 (4.5)\n",
      "Epoch 016/100 | Loss 0.0086 | Win/lose count 8.0/3.0 (5.0)\n",
      "Epoch 017/100 | Loss 0.0031 | Win/lose count 9.0/2.0 (7.0)\n",
      "Epoch 018/100 | Loss 0.0019 | Win/lose count 23.5/6.0 (17.5)\n",
      "Epoch 019/100 | Loss 0.0022 | Win/lose count 8.0/4.0 (4.0)\n",
      "Epoch 020/100 | Loss 0.0459 | Win/lose count 11.0/3.0 (8.0)\n",
      "Epoch 021/100 | Loss 0.0024 | Win/lose count 7.0/3.0 (4.0)\n",
      "Epoch 022/100 | Loss 0.0018 | Win/lose count 8.0/2.0 (6.0)\n",
      "Epoch 023/100 | Loss 0.0025 | Win/lose count 5.0/3.0 (2.0)\n",
      "Epoch 024/100 | Loss 0.0358 | Win/lose count 19.5/0 (19.5)\n",
      "Epoch 025/100 | Loss 0.0013 | Win/lose count 18.5/2.0 (16.5)\n",
      "Epoch 026/100 | Loss 0.0014 | Win/lose count 14.0/4.0 (10.0)\n",
      "Epoch 027/100 | Loss 0.0193 | Win/lose count 10.0/1.0 (9.0)\n",
      "Epoch 028/100 | Loss 0.0015 | Win/lose count 5.5/3.0 (2.5)\n",
      "Epoch 029/100 | Loss 0.0106 | Win/lose count 15.5/3.0 (12.5)\n",
      "Epoch 030/100 | Loss 0.0017 | Win/lose count 12.5/3.0 (9.5)\n",
      "Epoch 031/100 | Loss 0.0044 | Win/lose count 7.5/2.0 (5.5)\n",
      "Epoch 032/100 | Loss 0.0279 | Win/lose count 14.0/2.0 (12.0)\n",
      "Epoch 033/100 | Loss 0.0022 | Win/lose count 9.5/1.0 (8.5)\n",
      "Epoch 034/100 | Loss 0.0010 | Win/lose count 18.0/2.0 (16.0)\n",
      "Epoch 035/100 | Loss 0.0025 | Win/lose count 14.5/4.0 (10.5)\n",
      "Epoch 036/100 | Loss 0.0239 | Win/lose count 13.5/3.0 (10.5)\n",
      "Epoch 037/100 | Loss 0.0018 | Win/lose count 21.5/1.0 (20.5)\n",
      "Epoch 038/100 | Loss 0.0490 | Win/lose count 10.0/4.0 (6.0)\n",
      "Epoch 039/100 | Loss 0.0012 | Win/lose count 4.0/3.0 (1.0)\n",
      "Epoch 040/100 | Loss 0.0021 | Win/lose count 19.0/2.0 (17.0)\n",
      "Epoch 041/100 | Loss 0.0011 | Win/lose count 11.0/3.0 (8.0)\n",
      "Epoch 042/100 | Loss 0.0029 | Win/lose count 10.5/4.0 (6.5)\n",
      "Epoch 043/100 | Loss 0.0012 | Win/lose count 14.0/4.0 (10.0)\n",
      "Epoch 044/100 | Loss 0.0202 | Win/lose count 17.0/4.0 (13.0)\n",
      "Epoch 045/100 | Loss 0.0436 | Win/lose count 18.5/4.0 (14.5)\n",
      "Epoch 046/100 | Loss 0.0218 | Win/lose count 11.0/4.0 (7.0)\n",
      "Epoch 047/100 | Loss 0.0339 | Win/lose count 15.0/0 (15.0)\n",
      "Epoch 048/100 | Loss 0.0030 | Win/lose count 12.5/0 (12.5)\n",
      "Epoch 049/100 | Loss 0.0389 | Win/lose count 15.5/3.0 (12.5)\n",
      "Epoch 050/100 | Loss 0.0020 | Win/lose count 11.5/2.0 (9.5)\n",
      "Epoch 051/100 | Loss 0.0075 | Win/lose count 18.0/1.0 (17.0)\n",
      "Epoch 052/100 | Loss 0.0079 | Win/lose count 6.0/0 (6.0)\n",
      "Epoch 053/100 | Loss 0.0351 | Win/lose count 12.5/0 (12.5)\n",
      "Epoch 054/100 | Loss 0.0411 | Win/lose count 15.5/0 (15.5)\n",
      "Epoch 055/100 | Loss 0.0292 | Win/lose count 15.5/4.0 (11.5)\n",
      "Epoch 056/100 | Loss 0.0024 | Win/lose count 13.0/2.0 (11.0)\n",
      "Epoch 057/100 | Loss 0.0022 | Win/lose count 6.0/2.0 (4.0)\n",
      "Epoch 058/100 | Loss 0.0015 | Win/lose count 18.5/3.0 (15.5)\n",
      "Epoch 059/100 | Loss 0.0016 | Win/lose count 14.5/3.0 (11.5)\n",
      "Epoch 060/100 | Loss 0.0028 | Win/lose count 18.0/3.0 (15.0)\n",
      "Epoch 061/100 | Loss 0.0011 | Win/lose count 8.0/0 (8.0)\n",
      "Epoch 062/100 | Loss 0.0011 | Win/lose count 8.5/3.0 (5.5)\n",
      "Epoch 063/100 | Loss 0.0026 | Win/lose count 17.0/2.0 (15.0)\n",
      "Epoch 064/100 | Loss 0.0012 | Win/lose count 15.5/4.0 (11.5)\n",
      "Epoch 065/100 | Loss 0.0010 | Win/lose count 16.0/0 (16.0)\n",
      "Epoch 066/100 | Loss 0.0020 | Win/lose count 9.5/2.0 (7.5)\n",
      "Epoch 067/100 | Loss 0.0010 | Win/lose count 12.5/4.0 (8.5)\n",
      "Epoch 068/100 | Loss 0.0016 | Win/lose count 7.0/2.0 (5.0)\n",
      "Epoch 069/100 | Loss 0.0018 | Win/lose count 6.0/2.0 (4.0)\n",
      "Epoch 070/100 | Loss 0.0789 | Win/lose count 15.5/4.0 (11.5)\n",
      "Epoch 071/100 | Loss 0.0014 | Win/lose count 16.5/1.0 (15.5)\n",
      "Epoch 072/100 | Loss 0.0023 | Win/lose count 8.0/2.0 (6.0)\n",
      "Epoch 073/100 | Loss 0.0026 | Win/lose count 10.5/1.0 (9.5)\n",
      "Epoch 074/100 | Loss 0.0018 | Win/lose count 16.0/2.0 (14.0)\n",
      "Epoch 075/100 | Loss 0.0041 | Win/lose count 8.5/1.0 (7.5)\n",
      "Epoch 076/100 | Loss 0.0448 | Win/lose count 20.0/1.0 (19.0)\n",
      "Epoch 077/100 | Loss 0.0019 | Win/lose count 20.0/4.0 (16.0)\n",
      "Epoch 078/100 | Loss 0.0015 | Win/lose count 2.5/2.0 (0.5)\n",
      "Epoch 079/100 | Loss 0.0251 | Win/lose count 12.5/1.0 (11.5)\n",
      "Epoch 080/100 | Loss 0.0014 | Win/lose count 6.5/3.0 (3.5)\n",
      "Epoch 081/100 | Loss 0.0020 | Win/lose count 17.5/5.0 (12.5)\n",
      "Epoch 082/100 | Loss 0.0016 | Win/lose count 15.0/4.0 (11.0)\n",
      "Epoch 083/100 | Loss 0.0026 | Win/lose count 3.5/3.0 (0.5)\n",
      "Epoch 084/100 | Loss 0.0399 | Win/lose count 15.5/3.0 (12.5)\n",
      "Epoch 085/100 | Loss 0.0015 | Win/lose count 4.0/2.0 (2.0)\n",
      "Epoch 086/100 | Loss 0.0025 | Win/lose count 20.5/5.0 (15.5)\n",
      "Epoch 087/100 | Loss 0.0026 | Win/lose count 11.5/5.0 (6.5)\n",
      "Epoch 088/100 | Loss 0.0017 | Win/lose count 18.0/3.0 (15.0)\n",
      "Epoch 089/100 | Loss 0.0870 | Win/lose count 10.5/3.0 (7.5)\n",
      "Epoch 090/100 | Loss 0.0009 | Win/lose count 10.5/2.0 (8.5)\n",
      "Epoch 091/100 | Loss 0.0036 | Win/lose count 17.5/2.0 (15.5)\n",
      "Epoch 092/100 | Loss 0.0015 | Win/lose count 6.0/1.0 (5.0)\n",
      "Epoch 093/100 | Loss 0.0016 | Win/lose count 13.5/0 (13.5)\n",
      "Epoch 094/100 | Loss 0.0014 | Win/lose count 6.5/2.0 (4.5)\n",
      "Epoch 095/100 | Loss 0.0018 | Win/lose count 6.5/1.0 (5.5)\n",
      "Epoch 096/100 | Loss 0.0017 | Win/lose count 17.5/0 (17.5)\n",
      "Epoch 097/100 | Loss 0.0423 | Win/lose count 12.0/4.0 (8.0)\n",
      "Epoch 098/100 | Loss 0.0023 | Win/lose count 17.0/3.0 (14.0)\n",
      "Epoch 099/100 | Loss 0.0020 | Win/lose count 19.0/4.0 (15.0)\n"
     ]
    },
    {
     "data": {
      "text/html": [
       "<video alt=\"test\" controls>\n",
       "                <source src=\"data:video/mp4;base64,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\" type=\"video/mp4\" />\n",
       "             </video>"
      ],
      "text/plain": [
       "<IPython.core.display.HTML object>"
      ]
     },
     "execution_count": 25,
     "metadata": {},
     "output_type": "execute_result"
    }
   ],
   "source": [
    "env = Environment(grid_size=size, max_time=T, temperature=0.3)\n",
    "agent = DQN_CNN(size, lr=.1, epsilon = 0.1, memory_size=2000, batch_size = 32)\n",
    "train(agent,env,epochs_train,prefix='cnn_train')\n",
    "HTML(display_videos('cnn_train90.mp4'))"
   ]
  },
  {
   "cell_type": "markdown",
   "metadata": {},
   "source": [
    "***\n",
    "***\n",
    "__Question 9__ Test both algorithms and compare their performances. Which issue(s) do you observe? Observe also different behaviors by changing the temperature."
   ]
  },
  {
   "cell_type": "code",
   "execution_count": 28,
   "metadata": {},
   "outputs": [
    {
     "name": "stdout",
     "output_type": "stream",
     "text": [
      "Test of the CNN\n",
      "Win/lose count 1.5/2.0. Average score (-0.5)\n",
      "Win/lose count 6.5/5.0. Average score (0.5)\n",
      "Win/lose count 8.0/2.0. Average score (2.3333333333333335)\n",
      "Win/lose count 3.5/0. Average score (2.625)\n",
      "Win/lose count 4.5/0. Average score (3.0)\n",
      "Win/lose count 7.0/0. Average score (3.6666666666666665)\n",
      "Win/lose count 5.0/0. Average score (3.857142857142857)\n",
      "Win/lose count 4.0/0. Average score (3.875)\n",
      "Win/lose count 7.5/3.0. Average score (3.9444444444444446)\n",
      "Win/lose count 5.0/1.0. Average score (3.95)\n",
      "Win/lose count 12.0/3.0. Average score (4.409090909090909)\n",
      "Win/lose count 7.5/3.0. Average score (4.416666666666667)\n",
      "Win/lose count 7.0/1.0. Average score (4.538461538461538)\n",
      "Win/lose count 7.5/4.0. Average score (4.464285714285714)\n",
      "Win/lose count 3.5/3.0. Average score (4.2)\n",
      "Win/lose count 8.0/4.0. Average score (4.1875)\n",
      "Win/lose count 4.5/4.0. Average score (3.9705882352941178)\n",
      "Win/lose count 4.5/3.0. Average score (3.8333333333333335)\n",
      "Win/lose count 3.5/1.0. Average score (3.763157894736842)\n",
      "Win/lose count 3.0/3.0. Average score (3.575)\n",
      "Final score: 3.575\n",
      "Test of the FC\n",
      "Win/lose count 4.5/1.0. Average score (3.5)\n",
      "Win/lose count 1.5/1.0. Average score (2.0)\n",
      "Win/lose count 3.5/4.0. Average score (1.1666666666666667)\n",
      "Win/lose count 3.0/2.0. Average score (1.125)\n",
      "Win/lose count 3.0/2.0. Average score (1.1)\n",
      "Win/lose count 4.0/3.0. Average score (1.0833333333333333)\n",
      "Win/lose count 2.5/5.0. Average score (0.5714285714285714)\n",
      "Win/lose count 5.5/8.0. Average score (0.1875)\n",
      "Win/lose count 4.0/1.0. Average score (0.5)\n",
      "Win/lose count 6.0/3.0. Average score (0.75)\n",
      "Win/lose count 4.5/2.0. Average score (0.9090909090909091)\n",
      "Win/lose count 2.5/4.0. Average score (0.7083333333333334)\n",
      "Win/lose count 2.5/4.0. Average score (0.5384615384615384)\n",
      "Win/lose count 4.5/4.0. Average score (0.5357142857142857)\n",
      "Win/lose count 5.5/3.0. Average score (0.6666666666666666)\n",
      "Win/lose count 3.0/2.0. Average score (0.6875)\n",
      "Win/lose count 5.5/5.0. Average score (0.6764705882352942)\n",
      "Win/lose count 8.5/7.0. Average score (0.7222222222222222)\n",
      "Win/lose count 2.5/5.0. Average score (0.5526315789473685)\n",
      "Win/lose count 6.5/5.0. Average score (0.6)\n",
      "Final score: 0.6\n"
     ]
    }
   ],
   "source": [
    "env = Environment(grid_size=size, max_time=T,temperature=0.3)\n",
    "agent_cnn = DQN_CNN(size, lr=.1, epsilon = 0.1, memory_size=2000, batch_size = 32)\n",
    "agent_cnn.load(name_weights='cnn_trainmodel.h5',name_model='cnn_trainmodel.json')\n",
    "\n",
    "agent_fc = DQN_FC(size, lr=.1, epsilon = 0.1, memory_size=2000, batch_size = 32)\n",
    "agent_cnn.load(name_weights='fc_trainmodel.h5',name_model='fc_trainmodel.json')\n",
    "print('Test of the CNN')\n",
    "test(agent_cnn,env,epochs_test,prefix='cnn_test')\n",
    "print('Test of the FC')\n",
    "test(agent_fc,env,epochs_test,prefix='fc_test')"
   ]
  },
  {
   "cell_type": "code",
   "execution_count": 29,
   "metadata": {},
   "outputs": [
    {
     "data": {
      "text/html": [
       "<video alt=\"test\" controls>\n",
       "                <source src=\"data:video/mp4;base64,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\" type=\"video/mp4\" />\n",
       "             </video>"
      ],
      "text/plain": [
       "<IPython.core.display.HTML object>"
      ]
     },
     "execution_count": 29,
     "metadata": {},
     "output_type": "execute_result"
    }
   ],
   "source": [
    "HTML(display_videos('cnn_test10.mp4'))"
   ]
  },
  {
   "cell_type": "code",
   "execution_count": 30,
   "metadata": {},
   "outputs": [
    {
     "data": {
      "text/html": [
       "<video alt=\"test\" controls>\n",
       "                <source src=\"data:video/mp4;base64,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\" type=\"video/mp4\" />\n",
       "             </video>"
      ],
      "text/plain": [
       "<IPython.core.display.HTML object>"
      ]
     },
     "execution_count": 30,
     "metadata": {},
     "output_type": "execute_result"
    }
   ],
   "source": [
    "HTML(display_videos('fc_test10.mp4'))"
   ]
  },
  {
   "cell_type": "markdown",
   "metadata": {},
   "source": [
    "> The agent gets pretty good at avoiding poison and grabing any cheese it sees, yet it tends to quickly get stuck in a place from where it can't see cheese. The exploration is not sufficient, it could earn a lot more if it explored more states. This effect is even worse for low temperature values, because there is less chesse to spot, so the agent gets stuck earlier. At the opposite, for high temperature values the performances improve, because it takes more time to run out of \"spottable\" cheese. "
   ]
  },
  {
   "cell_type": "markdown",
   "metadata": {},
   "source": [
    "***\n",
    "\n",
    "The algorithm tends to not explore the map which can be an issue. We propose two ideas in order to encourage exploration:\n",
    "1. Incorporating a decreasing $\\epsilon$-greedy exploration. You can use the method ```set_epsilon```\n",
    "2. Append via the environment a new state that describes if a cell has been visited or not\n",
    "\n",
    "***\n",
    "__Question 10__ Design a new ```train_explore``` function and environment class ```EnvironmentExploring``` to tackle the issue of exploration.\n",
    "\n"
   ]
  },
  {
   "cell_type": "code",
   "execution_count": 46,
   "metadata": {
    "collapsed": true
   },
   "outputs": [],
   "source": [
    "def train_explore(agent,env,epoch,prefix=''):\n",
    "    # Number of won games\n",
    "    score = 0\n",
    "    loss = 0\n",
    "\n",
    "    for e in range(epoch):\n",
    "        # At each epoch, we restart to a fresh game and get the initial state\n",
    "        state = env.reset()\n",
    "        # This assumes that the games will terminate\n",
    "        game_over = False\n",
    "\n",
    "        win = 0\n",
    "        lose = 0\n",
    "\n",
    "        while not game_over:\n",
    "            # The agent performs an action\n",
    "            action = agent.act(state)\n",
    "\n",
    "            # Apply an action to the environment, get the next state, the reward\n",
    "            # and if the games end\n",
    "            prev_state = state\n",
    "            #state, reward, game_over = env.act(action)\n",
    "            state, reward, game_over = env.act(action, train=True)\n",
    "            #print(state.shape)\n",
    "\n",
    "            # Update the counters\n",
    "            if reward > 0:\n",
    "                win = win + reward\n",
    "            if reward < 0:\n",
    "                lose = lose -reward\n",
    "\n",
    "            # Apply the reinforcement strategy\n",
    "            loss = agent.reinforce(prev_state, state,  action, reward, game_over)\n",
    "            \n",
    "        agent.set_epsilon(1 - e/epoch)\n",
    "\n",
    "        # Save as a mp4\n",
    "        if e % 10 == 0:\n",
    "            env.draw(prefix+str(e))\n",
    "\n",
    "        # Update stats\n",
    "        score += win-lose\n",
    "\n",
    "        print(\"Epoch {:03d}/{:03d} | Loss {:.4f} | Win/lose count {}/{} ({})\"\n",
    "              .format(e, epoch, loss, win, lose, win-lose))\n",
    "        agent.save(name_weights=prefix+'model.h5',name_model=prefix+'model.json')\n",
    "          \n",
    "class EnvironmentExploring(object):\n",
    "    def __init__(self, grid_size=10, max_time=500, temperature=0.1):\n",
    "        grid_size = grid_size+4\n",
    "        self.grid_size = grid_size\n",
    "        self.max_time = max_time\n",
    "        self.temperature = temperature\n",
    "\n",
    "        #board on which one plays\n",
    "        self.board = np.zeros((grid_size,grid_size))\n",
    "        self.position = np.zeros((grid_size,grid_size))\n",
    "        self.malus_position = np.zeros((grid_size,grid_size))\n",
    "\n",
    "        # coordinate of the cat\n",
    "        self.x = 0\n",
    "        self.y = 1\n",
    "\n",
    "        # self time\n",
    "        self.t = 0\n",
    "\n",
    "        self.scale=16\n",
    "\n",
    "        self.to_draw = np.zeros((max_time+2, grid_size*self.scale, grid_size*self.scale, 3))\n",
    "\n",
    "\n",
    "    def draw(self,e):\n",
    "        skvideo.io.vwrite(str(e) + '.mp4', self.to_draw)\n",
    "\n",
    "    def get_frame(self,t):\n",
    "        b = np.zeros((self.grid_size,self.grid_size,3))+128\n",
    "        b[self.board>0,0] = 256\n",
    "        b[self.board < 0, 2] = 256\n",
    "        b[self.x,self.y,:]=256\n",
    "        b[-2:,:,:]=0\n",
    "        b[:,-2:,:]=0\n",
    "        b[:2,:,:]=0\n",
    "        b[:,:2,:]=0\n",
    "        \n",
    "        b =  cv2.resize(b, None, fx=self.scale, fy=self.scale, interpolation=cv2.INTER_NEAREST)\n",
    "\n",
    "        self.to_draw[t,:,:,:]=b\n",
    "\n",
    "\n",
    "    def act(self, action, train=False):\n",
    "        \"\"\"This function returns the new state, reward and decides if the\n",
    "        game ends.\"\"\"\n",
    "\n",
    "        self.get_frame(int(self.t))\n",
    "\n",
    "        self.position = np.zeros((self.grid_size, self.grid_size))\n",
    "\n",
    "        self.position[0:2,:]= -1\n",
    "        self.position[:,0:2] = -1\n",
    "        self.position[-2:, :] = -1\n",
    "        self.position[-2:, :] = -1\n",
    "\n",
    "        self.position[self.x, self.y] = 1\n",
    "        if action == 0:\n",
    "            if self.x == self.grid_size-3:\n",
    "                self.x = self.x-1\n",
    "            else:\n",
    "                self.x = self.x + 1\n",
    "        elif action == 1:\n",
    "            if self.x == 2:\n",
    "                self.x = self.x+1\n",
    "            else:\n",
    "                self.x = self.x-1\n",
    "        elif action == 2:\n",
    "            if self.y == self.grid_size - 3:\n",
    "                self.y = self.y - 1\n",
    "            else:\n",
    "                self.y = self.y + 1\n",
    "        elif action == 3:\n",
    "            if self.y == 2:\n",
    "                self.y = self.y + 1\n",
    "            else:\n",
    "                self.y = self.y - 1\n",
    "        else:\n",
    "            RuntimeError('Error: action not recognized')\n",
    "\n",
    "        self.t = self.t + 1\n",
    "        \n",
    "        reward = 0\n",
    "        if train:\n",
    "            reward = -self.malus_position[self.x, self.y]\n",
    "        self.malus_position[self.x, self.y] += 0.1\n",
    "        reward = reward + self.board[self.x, self.y] \n",
    "        self.board[self.x, self.y] = 0\n",
    "        \n",
    "        game_over = self.t > self.max_time\n",
    "        state = np.concatenate((self.malus_position.reshape(self.grid_size, self.grid_size,1),\n",
    "                                self.board.reshape(self.grid_size, self.grid_size,1),\n",
    "                        self.position.reshape(self.grid_size, self.grid_size,1)),axis=2)\n",
    "        state = state[self.x-2:self.x+3,self.y-2:self.y+3,:]\n",
    "\n",
    "        return state, reward, game_over\n",
    "\n",
    "    def reset(self):\n",
    "        \"\"\"This function resets the game and returns the initial state\"\"\"\n",
    "\n",
    "        self.x = np.random.randint(3, self.grid_size-3, size=1)[0]\n",
    "        self.y = np.random.randint(3, self.grid_size-3, size=1)[0]\n",
    "\n",
    "\n",
    "        bonus = 0.5*np.random.binomial(1,self.temperature,size=self.grid_size**2)\n",
    "        bonus = bonus.reshape(self.grid_size,self.grid_size)\n",
    "\n",
    "        malus = -1.0*np.random.binomial(1,self.temperature,size=self.grid_size**2)\n",
    "        malus = malus.reshape(self.grid_size, self.grid_size)\n",
    "\n",
    "        self.to_draw = np.zeros((self.max_time+2, self.grid_size*self.scale, self.grid_size*self.scale, 3))\n",
    "\n",
    "\n",
    "        malus[bonus>0]=0\n",
    "\n",
    "        self.board = bonus + malus\n",
    "\n",
    "        self.position = np.zeros((self.grid_size, self.grid_size))\n",
    "        self.position[0:2,:]= -1\n",
    "        self.position[:,0:2] = -1\n",
    "        self.position[-2:, :] = -1\n",
    "        self.position[-2:, :] = -1\n",
    "        self.board[self.x,self.y] = 0\n",
    "        self.t = 0\n",
    "        \n",
    "        self.malus_position = np.zeros((self.grid_size, self.grid_size))\n",
    "\n",
    "        state = np.concatenate((self.malus_position.reshape(self.grid_size, self.grid_size,1),\n",
    "                                self.board.reshape(self.grid_size, self.grid_size,1),\n",
    "                        self.position.reshape(self.grid_size, self.grid_size,1)),axis=2)\n",
    "\n",
    "        state = state[self.x - 2:self.x + 3, self.y - 2:self.y + 3, :]\n",
    "        return state\n",
    "    \n",
    "# ## use those samples of code:\n",
    "# #In train explore:\n",
    "# state, reward, game_over = env.act(action, train=True)\n",
    "\n",
    "# ## In Environment exploring:\n",
    "# # You will have to change n_state to 3 because you will use one more layer!\n",
    "# reward = 0\n",
    "# if train:\n",
    "#     reward = -self.malus_position[self.x, self.y]\n",
    "# self.malus_position[self.x, self.y] = 0.1\n",
    "\n",
    "# reward = reward + self.board[self.x, self.y]\n",
    "# # 3 \"feature\" states instead of 2\n",
    "# state = np.concatenate((self.malus_position.reshape(self.grid_size, self.grid_size,1),\n",
    "#                                 self.board.reshape(self.grid_size, self.grid_size,1),\n",
    "#                         self.position.reshape(self.grid_size, self.grid_size,1)),axis=2)"
   ]
  },
  {
   "cell_type": "code",
   "execution_count": 47,
   "metadata": {},
   "outputs": [
    {
     "name": "stdout",
     "output_type": "stream",
     "text": [
      "Epoch 000/100 | Loss 0.1495 | Win/lose count 5.0/104.89999999999999 (-99.89999999999999)\n",
      "Epoch 001/100 | Loss 0.0275 | Win/lose count 9.0/54.2 (-45.2)\n",
      "Epoch 002/100 | Loss 0.0865 | Win/lose count 7.5/65.20000000000002 (-57.70000000000002)\n",
      "Epoch 003/100 | Loss 0.1311 | Win/lose count 11.0/43.20000000000001 (-32.20000000000001)\n",
      "Epoch 004/100 | Loss 0.0896 | Win/lose count 5.5/63.30000000000002 (-57.80000000000002)\n",
      "Epoch 005/100 | Loss 0.0749 | Win/lose count 10.5/43.70000000000005 (-33.20000000000005)\n",
      "Epoch 006/100 | Loss 0.0390 | Win/lose count 7.0/60.700000000000024 (-53.700000000000024)\n",
      "Epoch 007/100 | Loss 0.0747 | Win/lose count 10.0/49.80000000000002 (-39.80000000000002)\n",
      "Epoch 008/100 | Loss 0.0369 | Win/lose count 6.5/59.20000000000001 (-52.70000000000001)\n",
      "Epoch 009/100 | Loss 0.0559 | Win/lose count 7.5/38.000000000000036 (-30.500000000000036)\n",
      "Epoch 010/100 | Loss 0.0505 | Win/lose count 10.0/53.70000000000003 (-43.70000000000003)\n",
      "Epoch 011/100 | Loss 0.0446 | Win/lose count 13.0/41.90000000000002 (-28.90000000000002)\n",
      "Epoch 012/100 | Loss 0.0356 | Win/lose count 16.5/41.20000000000005 (-24.700000000000053)\n",
      "Epoch 013/100 | Loss 0.0378 | Win/lose count 7.5/65.40000000000003 (-57.900000000000034)\n",
      "Epoch 014/100 | Loss 0.0424 | Win/lose count 12.0/44.10000000000003 (-32.10000000000003)\n",
      "Epoch 015/100 | Loss 0.0494 | Win/lose count 9.0/47.300000000000026 (-38.300000000000026)\n",
      "Epoch 016/100 | Loss 0.0287 | Win/lose count 10.0/44.10000000000005 (-34.10000000000005)\n",
      "Epoch 017/100 | Loss 0.0252 | Win/lose count 11.5/55.90000000000004 (-44.40000000000004)\n",
      "Epoch 018/100 | Loss 0.0667 | Win/lose count 10.0/41.19999999999999 (-31.19999999999999)\n",
      "Epoch 019/100 | Loss 0.0550 | Win/lose count 10.0/52.600000000000044 (-42.600000000000044)\n",
      "Epoch 020/100 | Loss 0.0998 | Win/lose count 17.0/47.600000000000016 (-30.600000000000016)\n",
      "Epoch 021/100 | Loss 0.0236 | Win/lose count 13.0/34.500000000000014 (-21.500000000000014)\n",
      "Epoch 022/100 | Loss 0.0126 | Win/lose count 16.5/29.800000000000022 (-13.300000000000022)\n",
      "Epoch 023/100 | Loss 0.0792 | Win/lose count 15.0/56.800000000000026 (-41.800000000000026)\n",
      "Epoch 024/100 | Loss 0.0114 | Win/lose count 14.5/41.200000000000045 (-26.700000000000045)\n",
      "Epoch 025/100 | Loss 0.0125 | Win/lose count 12.0/33.00000000000001 (-21.000000000000007)\n",
      "Epoch 026/100 | Loss 0.0171 | Win/lose count 13.5/35.80000000000005 (-22.300000000000047)\n",
      "Epoch 027/100 | Loss 0.0313 | Win/lose count 14.5/41.300000000000026 (-26.800000000000026)\n",
      "Epoch 028/100 | Loss 0.0140 | Win/lose count 18.0/39.900000000000006 (-21.900000000000006)\n",
      "Epoch 029/100 | Loss 0.0162 | Win/lose count 14.0/34.10000000000001 (-20.10000000000001)\n",
      "Epoch 030/100 | Loss 0.0075 | Win/lose count 19.5/33.2 (-13.700000000000003)\n",
      "Epoch 031/100 | Loss 0.0081 | Win/lose count 15.0/35.60000000000002 (-20.600000000000023)\n",
      "Epoch 032/100 | Loss 0.0697 | Win/lose count 19.5/29.50000000000002 (-10.000000000000021)\n",
      "Epoch 033/100 | Loss 0.0132 | Win/lose count 11.5/39.000000000000014 (-27.500000000000014)\n",
      "Epoch 034/100 | Loss 0.0069 | Win/lose count 17.5/36.2 (-18.700000000000003)\n",
      "Epoch 035/100 | Loss 0.0092 | Win/lose count 11.5/34.70000000000003 (-23.20000000000003)\n",
      "Epoch 036/100 | Loss 0.0119 | Win/lose count 16.0/36.400000000000034 (-20.400000000000034)\n",
      "Epoch 037/100 | Loss 0.0124 | Win/lose count 15.5/35.800000000000026 (-20.300000000000026)\n",
      "Epoch 038/100 | Loss 0.0059 | Win/lose count 17.5/32.00000000000002 (-14.500000000000021)\n",
      "Epoch 039/100 | Loss 0.0100 | Win/lose count 25.0/26.600000000000026 (-1.6000000000000263)\n",
      "Epoch 040/100 | Loss 0.1004 | Win/lose count 13.5/34.400000000000034 (-20.900000000000034)\n",
      "Epoch 041/100 | Loss 0.0102 | Win/lose count 15.0/32.80000000000002 (-17.80000000000002)\n",
      "Epoch 042/100 | Loss 0.0189 | Win/lose count 19.0/29.80000000000002 (-10.800000000000018)\n",
      "Epoch 043/100 | Loss 0.0129 | Win/lose count 24.5/22.499999999999996 (2.0000000000000036)\n",
      "Epoch 044/100 | Loss 0.0122 | Win/lose count 22.5/26.300000000000008 (-3.800000000000008)\n",
      "Epoch 045/100 | Loss 0.0096 | Win/lose count 16.5/29.900000000000002 (-13.400000000000002)\n",
      "Epoch 046/100 | Loss 0.0138 | Win/lose count 17.5/24.50000000000002 (-7.000000000000021)\n",
      "Epoch 047/100 | Loss 0.0087 | Win/lose count 21.5/31.100000000000016 (-9.600000000000016)\n",
      "Epoch 048/100 | Loss 0.0177 | Win/lose count 16.0/25.200000000000003 (-9.200000000000003)\n",
      "Epoch 049/100 | Loss 0.0060 | Win/lose count 17.0/29.000000000000014 (-12.000000000000014)\n",
      "Epoch 050/100 | Loss 0.0066 | Win/lose count 16.0/27.800000000000033 (-11.800000000000033)\n",
      "Epoch 051/100 | Loss 0.0095 | Win/lose count 19.0/22.900000000000002 (-3.900000000000002)\n",
      "Epoch 052/100 | Loss 0.0113 | Win/lose count 23.5/23.999999999999996 (-0.49999999999999645)\n",
      "Epoch 053/100 | Loss 0.0109 | Win/lose count 19.0/27.500000000000032 (-8.500000000000032)\n",
      "Epoch 054/100 | Loss 0.0117 | Win/lose count 26.0/30.50000000000002 (-4.500000000000021)\n",
      "Epoch 055/100 | Loss 0.0161 | Win/lose count 18.0/28.50000000000003 (-10.500000000000028)\n",
      "Epoch 056/100 | Loss 0.0389 | Win/lose count 23.0/22.400000000000002 (0.5999999999999979)\n",
      "Epoch 057/100 | Loss 0.0072 | Win/lose count 21.0/28.000000000000014 (-7.000000000000014)\n",
      "Epoch 058/100 | Loss 0.0087 | Win/lose count 20.5/24.10000000000001 (-3.6000000000000085)\n",
      "Epoch 059/100 | Loss 0.0070 | Win/lose count 25.0/22.900000000000016 (2.0999999999999837)\n",
      "Epoch 060/100 | Loss 0.0067 | Win/lose count 16.0/23.500000000000004 (-7.5000000000000036)\n",
      "Epoch 061/100 | Loss 0.0132 | Win/lose count 23.0/22.7 (0.3000000000000007)\n",
      "Epoch 062/100 | Loss 0.0192 | Win/lose count 18.5/28.600000000000033 (-10.100000000000033)\n",
      "Epoch 063/100 | Loss 0.0081 | Win/lose count 27.0/23.2 (3.8000000000000007)\n",
      "Epoch 064/100 | Loss 0.0114 | Win/lose count 20.5/29.800000000000004 (-9.300000000000004)\n",
      "Epoch 065/100 | Loss 0.0133 | Win/lose count 22.0/23.300000000000004 (-1.3000000000000043)\n",
      "Epoch 066/100 | Loss 0.0378 | Win/lose count 24.5/18.0 (6.5)\n",
      "Epoch 067/100 | Loss 0.0082 | Win/lose count 20.5/21.500000000000007 (-1.000000000000007)\n",
      "Epoch 068/100 | Loss 0.0103 | Win/lose count 21.5/23.799999999999997 (-2.299999999999997)\n",
      "Epoch 069/100 | Loss 0.0125 | Win/lose count 20.5/25.699999999999996 (-5.199999999999996)\n",
      "Epoch 070/100 | Loss 0.0130 | Win/lose count 17.0/27.800000000000004 (-10.800000000000004)\n",
      "Epoch 071/100 | Loss 0.0226 | Win/lose count 27.0/23.30000000000002 (3.6999999999999815)\n",
      "Epoch 072/100 | Loss 0.0041 | Win/lose count 27.5/21.200000000000014 (6.2999999999999865)\n",
      "Epoch 073/100 | Loss 0.0540 | Win/lose count 19.5/21.099999999999984 (-1.5999999999999837)\n",
      "Epoch 074/100 | Loss 0.0267 | Win/lose count 17.0/47.39999999999998 (-30.399999999999977)\n",
      "Epoch 075/100 | Loss 0.0151 | Win/lose count 19.5/21.40000000000001 (-1.9000000000000092)\n",
      "Epoch 076/100 | Loss 0.0161 | Win/lose count 21.0/18.29999999999998 (2.7000000000000206)\n",
      "Epoch 077/100 | Loss 0.0190 | Win/lose count 15.5/23.900000000000002 (-8.400000000000002)\n",
      "Epoch 078/100 | Loss 0.0185 | Win/lose count 24.5/24.10000000000001 (0.3999999999999915)\n",
      "Epoch 079/100 | Loss 0.0217 | Win/lose count 25.5/20.199999999999996 (5.300000000000004)\n",
      "Epoch 080/100 | Loss 0.0200 | Win/lose count 27.5/14.29999999999998 (13.20000000000002)\n",
      "Epoch 081/100 | Loss 0.0200 | Win/lose count 21.0/17.59999999999998 (3.40000000000002)\n",
      "Epoch 082/100 | Loss 0.0447 | Win/lose count 20.5/33.5 (-13.0)\n",
      "Epoch 083/100 | Loss 0.0147 | Win/lose count 18.0/28.29999999999999 (-10.29999999999999)\n",
      "Epoch 084/100 | Loss 0.0203 | Win/lose count 22.5/17.199999999999985 (5.300000000000015)\n",
      "Epoch 085/100 | Loss 0.0237 | Win/lose count 19.0/23.20000000000002 (-4.200000000000021)\n",
      "Epoch 086/100 | Loss 0.0229 | Win/lose count 21.0/19.899999999999988 (1.100000000000012)\n",
      "Epoch 087/100 | Loss 0.0230 | Win/lose count 20.0/16.799999999999976 (3.200000000000024)\n",
      "Epoch 088/100 | Loss 0.0272 | Win/lose count 25.0/17.599999999999984 (7.400000000000016)\n",
      "Epoch 089/100 | Loss 0.0713 | Win/lose count 23.5/17.999999999999986 (5.500000000000014)\n",
      "Epoch 090/100 | Loss 0.0307 | Win/lose count 22.5/13.799999999999981 (8.700000000000019)\n",
      "Epoch 091/100 | Loss 0.0196 | Win/lose count 20.0/16.399999999999984 (3.6000000000000156)\n",
      "Epoch 092/100 | Loss 0.0796 | Win/lose count 11.5/153.80000000000004 (-142.30000000000004)\n"
     ]
    },
    {
     "name": "stdout",
     "output_type": "stream",
     "text": [
      "Epoch 093/100 | Loss 0.0213 | Win/lose count 20.0/22.90000000000002 (-2.90000000000002)\n",
      "Epoch 094/100 | Loss 0.0575 | Win/lose count 18.0/12.199999999999982 (5.8000000000000185)\n",
      "Epoch 095/100 | Loss 0.0320 | Win/lose count 27.0/12.599999999999989 (14.400000000000011)\n",
      "Epoch 096/100 | Loss 0.0381 | Win/lose count 20.5/21.499999999999993 (-0.9999999999999929)\n",
      "Epoch 097/100 | Loss 0.1300 | Win/lose count 22.0/92.80000000000001 (-70.80000000000001)\n",
      "Epoch 098/100 | Loss 0.0819 | Win/lose count 25.0/11.799999999999983 (13.200000000000017)\n",
      "Epoch 099/100 | Loss 0.1239 | Win/lose count 23.0/12.099999999999982 (10.900000000000018)\n"
     ]
    },
    {
     "data": {
      "text/html": [
       "<video alt=\"test\" controls>\n",
       "                <source src=\"data:video/mp4;base64,AAAAIGZ0eXBpc29tAAACAGlzb21pc28yYXZjMW1wNDEAAAAIZnJlZQAAGNBtZGF0AAACrQYF//+p3EXpvebZSLeWLNgg2SPu73gyNjQgLSBjb3JlIDE1NSByMjkwMSA3ZDBmZjIyIC0gSC4yNjQvTVBFRy00IEFWQyBjb2RlYyAtIENvcHlsZWZ0IDIwMDMtMjAxOCAtIGh0dHA6Ly93d3cudmlkZW9sYW4ub3JnL3gyNjQuaHRtbCAtIG9wdGlvbnM6IGNhYmFjPTEgcmVmPTMgZGVibG9jaz0xOjA6MCBhbmFseXNlPTB4MToweDExMSBtZT1oZXggc3VibWU9NyBwc3k9MSBwc3lfcmQ9MS4wMDowLjAwIG1peGVkX3JlZj0xIG1lX3JhbmdlPTE2IGNocm9tYV9tZT0xIHRyZWxsaXM9MSA4eDhkY3Q9MCBjcW09MCBkZWFkem9uZT0yMSwxMSBmYXN0X3Bza2lwPTEgY2hyb21hX3FwX29mZnNldD00IHRocmVhZHM9NiBsb29rYWhlYWRfdGhyZWFkcz0xIHNsaWNlZF90aHJlYWRzPTAgbnI9MCBkZWNpbWF0ZT0xIGludGVybGFjZWQ9MCBibHVyYXlfY29tcGF0PTAgY29uc3RyYWluZWRfaW50cmE9MCBiZnJhbWVzPTMgYl9weXJhbWlkPTIgYl9hZGFwdD0xIGJfYmlhcz0wIGRpcmVjdD0xIHdlaWdodGI9MSBvcGVuX2dvcD0wIHdlaWdodHA9MiBrZXlpbnQ9MjUwIGtleWludF9taW49MjUgc2NlbmVjdXQ9NDAgaW50cmFfcmVmcmVzaD0wIHJjX2xvb2thaGVhZD00MCByYz1jcmYgbWJ0cmVlPTEgY3JmPTIzLjAgcWNvbXA9MC42MCBxcG1pbj0wIHFwbWF4PTY5IHFwc3RlcD00IGlwX3JhdGlvPTEuNDAgYXE9MToxLjAwAIAAAALsZYiEADP//vaG+BTYUyP+T7/8I/+5H7cfWfrixkIJvrVeQ9GAMl8a/5lGYaXpyc8t7R+vTNAEZz6HlLJIofgUkwDfMsjnE+I06ctmnylTgsspTsqRScrVTqQC0xbShz+Uxqi3XPu/DP6F1ZM0CsPU1Y4aum90K8vnhatINbCRwsDfrNwD9xCTCTiT1V9IM+jcj/tA3aoNzaburumvg0ue0AIcvUDdQcr00j1jlM7EKjmYahATpCod2HnyYNnICWAeUmax7h48UdIUilwBKqmOMSxOduXI39LwPqjBOPSrIv5jI7W9+rG7MQxeCF9K3YplCGGp33Z9HjsMSAT09vxpe8L2sXixoEXOZ9GYIK/nsThgvQkT936CtHlGp1r04DgkUeRLkjiRINaoYQB1XZ59cnuAvQYkwYxiyRFOZf3PBjs5yq5lHoDlbnDVP+uPLMP6IP4ZI6TCmp/wbTQuAY3lWTw/6yuVSLUsAzvRtS+3BCzXvO5de1CFHptJ+BumOz62THYBP8f1vJZxTw1Ii/IQBnrOOpjCBQLd5I1ZP3QYo68EnIgBr6cPumCM2lgxRET2IftoU3dVsS8UWX3HBZWRX1A/JlQgSjC2lAAWd83UeJNnoLb3bFr3RqDPiL/nAlhb9jzWdr2Pjh5QFJOxrz5kdN9DxA/gjzekzF6I3AG6xozLoVS4oBQADcrQ7D5FkWvOa9L0COjLxMy5Qh86GIfFQb5X2y12hvyxQVxqcWaZQAHvTo1EwyiOzOjzCr4HAi+vGsVkq/bt0E7hN3N3i45sY/M4kLbQYsAQTDKB9g6WvJI4AenTwACukzsTRz898LePYtsE6Oj3OUl8soj+oKzwZ0odx0vg/8YAAo568ZBnWvnHlkvDFbJ4rs/fkRuybelp7x1/ZpwtkDKuVa4GBNXR9Jxl26WZhbWds0kgGXtY6omomKNHXhBHUVDfkWy4V2mSHQIFYmMISAPrK+CNqnFXTlHwdQ8gT4CfmAAImQAAABNBmiFsQ3/+p4QAHG9g9j+fBFleAAAAGkGaQzwhkymEM//+nhAAbH39/Qqu5dO2CqqpAAAAEAGeYmpCvwAWttyKvAFAToAAAAAZQZpkSeEPJlMCG//+p4QAC6+6n6jjQkPHwQAAABhBmoVJ4Q8mUwIb//6nhAAHc9g9ezPgi/8AAAAWQZqpSeEPJlMCG//+p4QABxDjP9WD8QAAAA5BnsdFETwv/wAENoA6IQAAABABnuZ0Qr8ABec5OI7Ls5SAAAAADwGe6GpCvwAF5zk3WerQ6QAAABxBmutJqEFomUwU8N/+p4QAB0fYP88grVMhIubZAAAAEAGfCmpCvwAGIZua48Vbf2AAAAAZQZsMSeEKUmUwIb/+p4QABNvjp9RxoSIWwAAAABlBmy9J4Q6JlMCG//6nhAADNurSCET/LqCBAAAAEUGfTUURPCv/AAPjYImCvk2hAAAADwGfbmpCvwAD4hEzU0EBEQAAABlBm3FJqEFomUwU8N/+p4QABNVB3t7qftwsAAAAEAGfkGpCvwAD984a95pWqmAAAAAcQZuTSeEKUmUwUsN//qeEAAeUHhxY1Q/3x08d9QAAABABn7JqQr8ABknVPJgevn+AAAAAHEGbtUnhDomUwUTDf/6nhAAMO6tUx/q3b77PGzwAAAAQAZ/UakK/AAn1jy3DZtW1gQAAABxBm9lJ4Q8mUwIb//6nhAATUfM1Nmz4P9Gl5tJhAAAAEEGf90URPC//AAuk+YkwSwUAAAAPAZ4WdEK/AA81isYQq5rBAAAAEAGeGGpCvwAPizwLr9YpUMAAAAAnQZobSahBaJlMFPDP/p4QAE/94a5wKbJ9v8yyYOA8yt+V7nu6nGCBAAAADwGeOmpCvwAQXYjyXM+TUwAAABlBmjxJ4QpSZTAhv/6nhAAfA4z/Ujo0hs5hAAAAGUGaXUnhDomUwIb//qeEADD0if6kdGkNckEAAAAZQZpgSeEPJlMCG//+p4QAS1AFm22fZ81LwAAAABJBnp5FETwr/wA8zO+hbkiq2YAAAAAOAZ6/akK/ADzM8Wteq2cAAAAZQZqjSahBaJlMCG///qeEAE1HzHkYn+W3QwAAAA9BnsFFESwr/wA+IK4a/8EAAAAQAZ7iakK/AD4q4NndS/wA+AAAABNBmuVJqEFsmUwUTDf//qeEAAEnAAAAEAGfBGpCvwA+NUO+A8D8t80AAAAaQZsISeEKUmUwIb/+p4QATaU4QW1xLLdlfekAAAASQZ8mRTRMK/8APiDAIBTAOSZhAAAADgGfR2pCvwA+NfpHuff+AAAAGkGbSUmoQWiZTAh3//6plgA6SZCTcOCj5piwAAAAFkGbbUnhClJlMCG//qeEAHG9g/y7qYEAAAAOQZ+LRTRML/8AQ2gA0CAAAAAQAZ+qdEK/AF+sq7YmI6V1sAAAABEBn6xqQr8AX4FkHPNL36yrjwAAAB9Bm69JqEFomUwU8O/+qZYAO/8KPhGRm/lWdEC3GqqnAAAAEAGfzmpCvwBiGbmuPFW0mWEAAAARQZvTSeEKUmUwIb/+p4QAAScAAAAMQZ/xRTRML/8AALKAAAAAEAGeEHRCvwBiLKu76hu4S/EAAAAPAZ4SakK/AD2KG7DPVntBAAAAHkGaFUmoQWiZTBTw3/6nhABzweJrjVEv0ojl/kPjwAAAABABnjRqQr8AX524TcZ9enB5AAAAGUGaNknhClJlMCHf/qmWAFt+QZoA9JfX+zAAAAARQZpaSeEOiZTAhv/+p4QAAScAAAAMQZ54RRE8L/8AALKBAAAAEAGel3RCvwCTCAOaJCOlbegAAAARAZ6ZakK/AJKhJg8/f+X/VcUAAAAdQZqdSahBaJlMCG///qeEALl6J/o8x+wBAcNb6oAAAAARQZ67RREsK/8AluaN5pveoXsAAAAPAZ7cakK/AJbK3SjSHiYHAAAAGkGa3kmoQWyZTAhv//6nhAB0fYP8JwW6EmLAAAAAHEGa4knhClJlMCG//qeEAHER5nwNvdT8IZzhicAAAAARQZ8ARTRML/8AQ3P3ODxlwuEAAAAPAZ8/dEK/ADzF+LgPy37AAAAAEAGfIWpCvwBdLIhNxn16cLkAAAAZQZsjSahBaJlMCG///qeEAHG9g9ezPgivLwAAABFBm0dJ4QpSZTAhn/6eEAAEfQAAAAxBn2VFNEwv/wAAsoEAAAAQAZ+EdEK/AFntrbp2XZV/gQAAABABn4ZqQr8AXRRomXQdPLspAAAAGkGbiEmoQWiZTAhv//6nhABxAeFGoqAHtttQAAAAGUGbqUnhClJlMCG//qeEAHPB4U6zp91t9IAAAAAdQZvMSeEOiZTAhv/+p4QAdH2D/Q20hzLLEyO6V70AAAASQZ/qRRE8K/8AYhm5rj7lL2fJAAAAEAGeC2pCvwBkmbmuPFW0l+AAAAAZQZoNSahBaJlMCG///qeEAE/91OP8Pq23OwAAABlBmjBJ4QpSZTAhv/6nhABNvjp9RxoSHFbBAAAAEkGeTkU0TCv/AD4gvOdZPk3/gQAAABABnm9qQr8APMETNN9JBx/wAAAAHEGackmoQWiZTBTw3/6nhAAyfsH+cp14Ua3MfTgAAAAQAZ6RakK/ACjtfOdaGF58wQAAABhBmpVJ4QpSZTAhv/6nhAAw9In+pSAVckAAAAASQZ6zRTRMK/8AJ9Y8CEjH7kWAAAAADgGe1GpCvwAn1j10/U4tAAAAHEGa10moQWiZTBTwz/6eEAEdEOdNgvRHX39MBsAAAAAQAZ72akK/ADy84a95pWcBwQAAABhBmvhJ4QpSZTAhn/6eEAEe+IedboGSHVUAAAAYQZsZSeEOiZTAhv/+p4QAR746Y/w+rbdfAAAAGUGbOknhDyZTAhv//qeEAGvpE/1W+Y/EPSEAAAAbQZtbSeEPJlMCHf/+qZYAVL5BmgD1JA4f4hQQAAAAGEGbfknhDyZTAh3//qmWAFb0srOK05C6YQAAAA9Bn5xFETwr/wCKybhrdMEAAAAQAZ+9akK/ANelbF6uw5HlwAAAABpBm6FJqEFomUwId//+qZYAhCLDdGIRz6/k4AAAABJBn99FESwr/wDXu3C7DfS813UAAAAPAZ/gakK/ANe7cJwQOKTgAAAAM0Gb5UmoQWyZTAhv//6nhAWxvQb4hHwv/8JRz5i//wd4Yv/8JIePxsNwBDPtMPg1ryY0IQAAABRBngNFFSwv/wGH72nmu+ixhAVDiwAAABABniJ0Qr8BUegHO2ONM+khAAAADwGeJGpCvwILY7Jw2bTZMwAAAC5BmilJqEFsmUwIb//+p4QHHzxOZZXjDPwKZbOz4FCkL8dsqBCf36QyE31erRJPAAAAEUGeR0UVLC//AaM9ZDR5nKrZAAAADwGeZnRCvwIzIfjeoIJiggAAAA8BnmhqQr8CM2K6yv71YEAAAAAYQZpqSahBbJlMCG///qeEButkEhAEu6NnAAAAHUGajEnhClJlMFFSw3/+p4QGV32fQeh5qmty6JxwAAAAEAGeq2pCvwIeR251njgya0AAAAAZQZqtSeEOiZTAh3/+qZYA5naX8wpCmDa3oQAAAB9BmtFJ4Q8mUwIb//6nhAEF+Onu83Zs2Zqbc8nt7Gb9AAAAEUGe70URPC//AJ9PmKMmYu/NAAAADwGfDnRCvwDXpKIUwRaXgAAAABABnxBqQr8A15Mk030kHFJwAAAAGUGbFUmoQWiZTAhv//6nhAEEUHe3xp/IdX0AAAAVQZ8zRREsL/8An1AingwqCP3avQHcAAAADwGfUnRCvwCOuyhSbZKpdwAAABABn1RqQr8A17tRyv7cPofBAAAAGkGbVkmoQWyZTAhv//6nhAEF+On1HGhIcGVAAAAAHEGbeEnhClJlMFFSw3/+p4QArPup+64Wj+hVsGEAAAAQAZ+XakK/AIrLIYfQEg4uOQAAABxBm5pJ4Q6JlMFEw3/+p4QAcb2D/OU68KNbmO/4AAAADwGfuWpCvwBdG26UaQ8TqwAAABlBm7tJ4Q8mUwId//6plgAkPx5+/ZBuKhHgAAAAFkGb30nhDyZTAh3//qmWABb/fV9z/mEAAAAOQZ/9RRE8L/8AGwEW8WEAAAAPAZ4cdEK/ACVKkcR2XZY3AAAADwGeHmpCvwAmrzRBajy7/gAAABpBmgJJqEFomUwId//+qZYAF499WVWZtmBKwQAAABJBniBFESwr/wA6D8DoSWFrccAAAAAOAZ5BakK/ADoBAswcDqsAAAAZQZpGSahBbJlMCG///qeEAEdUHd2+wfrivAAAABBBnmRFFSwv/wArNAgpQxKZAAAADwGeg3RCvwAktoQGSXMggQAAABABnoVqQr8AOgzB5MD17jKBAAAAGkGaiUmoQWyZTAhv//6nhABuaRP9VvmPxDuhAAAAEkGep0UVLCv/AFrseBCRj9v1wAAAAA4BnshqQr8AWux66fqXrgAAABpBmspJqEFsmUwId//+qZYAVv5BmgD0l9f8cQAAACNBmu5J4QpSZTAh3/6plgDmXk5fEINv/wlVDN//5xB32ORoeAAAABVBnwxFNEwv/wDyp07ze/XIcJhE8PgAAAAQAZ8rdEK/ANfZV3IbKlH/MQAAABABny1qQr8BUbHluGzamOqBAAAAJ0GbMkmoQWiZTAh3//6plgDmdpf1V3AeZZWqZvwKUR5+BTNcsaybgQAAABBBn1BFESwv/wDyp1G9giekAAAADwGfb3RCvwFRjCAyS5SLgAAAABABn3FqQr8BWo2u3tYZI+ghAAAAGkGbdUmoQWyZTAh3//6plgDuNISbSib7piXgAAAAEkGfk0UVLCv/AVqx4EJGP257QAAAAA4Bn7RqQr8BWrHrp+pT2wAAABtBm7lJqEFsmUwIb//+p4QB2+wf5AILSFobOmAAAAAVQZ/XRRUsL/8Bh98fRYrluLw6Am/NAAAAEAGf9nRCvwIfZV3IbBpgM+EAAAAQAZ/4akK/AgrbYAOmpHLugAAAABpBm/tJqEFsmUwUTDv//qmWAO5fqGW9pfbBRQAAABABnhpqQr8BWrHluGzamOWAAAAAEkGaH0nhClJlMCHf/qmWAACVgQAAABNBnj1FNEwv/wGjHzpnFb12JnYtAAAADwGeXHRCvwIzIsq8BU67LwAAABABnl5qQr8CMkdudZ44MmjAAAAAHEGaQ0moQWiZTAhv//6nhAWMVsxP9Qd46fXANmEAAAAVQZ5hRREsL/8Bh++r7qtoI/dq8tl4AAAAEAGegHRCvwFaTWjJLf62d0EAAAAQAZ6CakK/AgtjroH4/hpnwAAAABpBmoVJqEFsmUwUTDv//qmWAuXJL7uOZA+D5wAAABABnqRqQr8CCtxSH0BINI7pAAAAGUGaqEnhClJlMCHf/qmWAPD2l4WoJ+ziVsEAAAASQZ7GRTRMK/8BWmwBAKYBx9BBAAAADgGe52pCvwFa5SrqdNmBAAAAHEGa7EmoQWiZTAhv//6nhAHG7B/kudeFGtzCzugAAAAQQZ8KRREsL/8A8n8PXWDSQQAAABABnyl0Qr8BUU1oyS3+tnpAAAAADwGfK2pCvwDXgsbA5TaXgAAAABpBmy9JqEFsmUwIb//+p4QA/fsH+E4LdCRZQQAAABFBn01FFSwr/wDXs3Nce96hAwAAAA8Bn25qQr8A15LSpFAlUekAAAAZQZtySahBbJlMCGf//p4QAo/um+ipWa9+pgAAAA9Bn5BFFSwr/wCGyuBJoEAAAAANAZ+xakK/AIcGsPFNAwAAABlBm7NJqEFsmUwIZ//+nhABp/X3dpzdxbgcAAAAGEGb1EnhClJlMCGf/p4QAZ3193ac3cW4PAAAABhBm/VJ4Q6JlMCGf/6eEAGT9fd2nN3FuF0AAAAZQZoWSeEPJlMCG//+p4QAZP32fUcaEhxBwAAAAB1BmjhJ4Q8mUwURPDf//qeEAENH3PZGJ/JpeAgl8QAAABABnldqQr8AN06p5LmfJSaBAAAAGUGaWUnhDyZTAhv//qeEAGlpE/1W+Y/EPmAAAAAZQZp6SeEPJlMCG//+p4QAovon+q3zH4hSQQAAABlBmp1J4Q8mUwIb//6nhAD3HGf6rfMfiDUgAAAAEUGeu0URPCv/AM27T/o5Iqj/AAAADgGe3GpCvwDNu1XNeqP9AAAAG0GawEmoQWiZTAhv//6nhAD4ewfzaXUwCpaHgAAAABJBnv5FESwr/wDNkdudZPk2oIAAAAAQAZ8fakK/AMiTJNN9JBxUEQAAABxBmwRJqEFsmUwIb//+p4QAo/up+5kYWzFCOXbMAAAAFUGfIkUVLC//AGIEcbqnS5Ejnb6jiQAAABABn0F0Qr8AgrtSeV+SmziwAAAADwGfQ2pCvwBYmspm2ZGt8wAAABxBm0hJqEFsmUwIX//+jLABlvV38kJ10zlWWBWBAAAAEEGfZkUVLC//ADzJ1G9gj6UAAAAPAZ+FdEK/AFQjCAyS5YuBAAAAEAGfh2pCvwBWaUbzTFW0oMAAAAAaQZuJS6hCEFskRggoB/IB/YeAIV/+OEAAEXAAAAugbW9vdgAAAGxtdmhkAAAAAAAAAAAAAAAAAAAD6AAAH5AAAQAAAQAAAAAAAAAAAAAAAAEAAAAAAAAAAAAAAAAAAAABAAAAAAAAAAAAAAAAAABAAAAAAAAAAAAAAAAAAAAAAAAAAAAAAAAAAAAAAAAAAgAACsp0cmFrAAAAXHRraGQAAAADAAAAAAAAAAAAAAABAAAAAAAAH5AAAAAAAAAAAAAAAAAAAAAAAAEAAAAAAAAAAAAAAAAAAAABAAAAAAAAAAAAAAAAAABAAAAAARAAAAEQAAAAAAAkZWR0cwAAABxlbHN0AAAAAAAAAAEAAB+QAAAEAAABAAAAAApCbWRpYQAAACBtZGhkAAAAAAAAAAAAAAAAAAAyAAABlABVxAAAAAAALWhkbHIAAAAAAAAAAHZpZGUAAAAAAAAAAAAAAABWaWRlb0hhbmRsZXIAAAAJ7W1pbmYAAAAUdm1oZAAAAAEAAAAAAAAAAAAAACRkaW5mAAAAHGRyZWYAAAAAAAAAAQAAAAx1cmwgAAAAAQAACa1zdGJsAAAAlXN0c2QAAAAAAAAAAQAAAIVhdmMxAAAAAAAAAAEAAAAAAAAAAAAAAAAAAAAAARABEABIAAAASAAAAAAAAAABAAAAAAAAAAAAAAAAAAAAAAAAAAAAAAAAAAAAAAAAAAAAGP//AAAAL2F2Y0MB9AAN/+EAF2f0AA2RmygiEdCAAAADAIAAABkHihTLAQAFaOvjxEgAAAAYc3R0cwAAAAAAAAABAAAAygAAAgAAAAAUc3RzcwAAAAAAAAABAAAAAQAABXhjdHRzAAAAAAAAAK0AAAACAAAEAAAAAAEAAAYAAAAAAQAAAgAAAAACAAAEAAAAAAEAAAoAAAAAAQAABAAAAAABAAAAAAAAAAEAAAIAAAAAAQAABgAAAAABAAACAAAAAAEAAAQAAAAAAQAACAAAAAACAAACAAAAAAEAAAYAAAAAAQAAAgAAAAABAAAGAAAAAAEAAAIAAAAAAQAABgAAAAABAAACAAAAAAEAAAoAAAAAAQAABAAAAAABAAAAAAAAAAEAAAIAAAAAAQAABgAAAAABAAACAAAAAAIAAAQAAAAAAQAACAAAAAACAAACAAAAAAEAAAgAAAAAAgAAAgAAAAABAAAGAAAAAAEAAAIAAAAAAQAACAAAAAACAAACAAAAAAEAAAQAAAAAAQAACgAAAAABAAAEAAAAAAEAAAAAAAAAAQAAAgAAAAABAAAGAAAAAAEAAAIAAAAAAQAACgAAAAABAAAEAAAAAAEAAAAAAAAAAQAAAgAAAAABAAAGAAAAAAEAAAIAAAAAAQAABAAAAAABAAAKAAAAAAEAAAQAAAAAAQAAAAAAAAABAAACAAAAAAEAAAgAAAAAAgAAAgAAAAABAAAEAAAAAAEAAAoAAAAAAQAABAAAAAABAAAAAAAAAAEAAAIAAAAAAQAABAAAAAABAAAKAAAAAAEAAAQAAAAAAQAAAAAAAAABAAACAAAAAAIAAAQAAAAAAQAACAAAAAACAAACAAAAAAEAAAQAAAAAAQAACAAAAAACAAACAAAAAAEAAAYAAAAAAQAAAgAAAAABAAAIAAAAAAIAAAIAAAAAAQAABgAAAAABAAACAAAAAAQAAAQAAAAAAQAACAAAAAACAAACAAAAAAEAAAgAAAAAAgAAAgAAAAABAAAKAAAAAAEAAAQAAAAAAQAAAAAAAAABAAACAAAAAAEAAAoAAAAAAQAABAAAAAABAAAAAAAAAAEAAAIAAAAAAQAABAAAAAABAAAGAAAAAAEAAAIAAAAAAQAABAAAAAABAAAKAAAAAAEAAAQAAAAAAQAAAAAAAAABAAACAAAAAAEAAAoAAAAAAQAABAAAAAABAAAAAAAAAAEAAAIAAAAAAQAABAAAAAABAAAGAAAAAAEAAAIAAAAAAQAABgAAAAABAAACAAAAAAEAAAQAAAAAAQAACgAAAAABAAAEAAAAAAEAAAAAAAAAAQAAAgAAAAABAAAIAAAAAAIAAAIAAAAAAQAACgAAAAABAAAEAAAAAAEAAAAAAAAAAQAAAgAAAAABAAAIAAAAAAIAAAIAAAAAAQAABAAAAAABAAAKAAAAAAEAAAQAAAAAAQAAAAAAAAABAAACAAAAAAEAAAoAAAAAAQAABAAAAAABAAAAAAAAAAEAAAIAAAAAAQAACAAAAAACAAACAAAAAAEAAAoAAAAAAQAABAAAAAABAAAAAAAAAAEAAAIAAAAAAQAABgAAAAABAAACAAAAAAEAAAoAAAAAAQAABAAAAAABAAAAAAAAAAEAAAIAAAAAAQAACgAAAAABAAAEAAAAAAEAAAAAAAAAAQAAAgAAAAABAAAGAAAAAAEAAAIAAAAAAQAACAAAAAACAAACAAAAAAEAAAoAAAAAAQAABAAAAAABAAAAAAAAAAEAAAIAAAAAAQAACAAAAAACAAACAAAAAAEAAAgAAAAAAgAAAgAAAAAEAAAEAAAAAAEAAAYAAAAAAQAAAgAAAAACAAAEAAAAAAEAAAgAAAAAAgAAAgAAAAABAAAIAAAAAAIAAAIAAAAAAQAACgAAAAABAAAEAAAAAAEAAAAAAAAAAQAAAgAAAAABAAAKAAAAAAEAAAQAAAAAAQAAAAAAAAABAAACAAAAAAEAAAQAAAAAHHN0c2MAAAAAAAAAAQAAAAEAAADKAAAAAQAAAzxzdHN6AAAAAAAAAAAAAADKAAAFoQAAABcAAAAeAAAAFAAAAB0AAAAcAAAAGgAAABIAAAAUAAAAEwAAACAAAAAUAAAAHQAAAB0AAAAVAAAAEwAAAB0AAAAUAAAAIAAAABQAAAAgAAAAFAAAACAAAAAUAAAAEwAAABQAAAArAAAAEwAAAB0AAAAdAAAAHQAAABYAAAASAAAAHQAAABMAAAAUAAAAFwAAABQAAAAeAAAAFgAAABIAAAAeAAAAGgAAABIAAAAUAAAAFQAAACMAAAAUAAAAFQAAABAAAAAUAAAAEwAAACIAAAAUAAAAHQAAABUAAAAQAAAAFAAAABUAAAAhAAAAFQAAABMAAAAeAAAAIAAAABUAAAATAAAAFAAAAB0AAAAVAAAAEAAAABQAAAAUAAAAHgAAAB0AAAAhAAAAFgAAABQAAAAdAAAAHQAAABYAAAAUAAAAIAAAABQAAAAcAAAAFgAAABIAAAAgAAAAFAAAABwAAAAcAAAAHQAAAB8AAAAcAAAAEwAAABQAAAAeAAAAFgAAABMAAAA3AAAAGAAAABQAAAATAAAAMgAAABUAAAATAAAAEwAAABwAAAAhAAAAFAAAAB0AAAAjAAAAFQAAABMAAAAUAAAAHQAAABkAAAATAAAAFAAAAB4AAAAgAAAAFAAAACAAAAATAAAAHQAAABoAAAASAAAAEwAAABMAAAAeAAAAFgAAABIAAAAdAAAAFAAAABMAAAAUAAAAHgAAABYAAAASAAAAHgAAACcAAAAZAAAAFAAAABQAAAArAAAAFAAAABMAAAAUAAAAHgAAABYAAAASAAAAHwAAABkAAAAUAAAAFAAAAB4AAAAUAAAAFgAAABcAAAATAAAAFAAAACAAAAAZAAAAFAAAABQAAAAeAAAAFAAAAB0AAAAWAAAAEgAAACAAAAAUAAAAFAAAABMAAAAeAAAAFQAAABMAAAAdAAAAEwAAABEAAAAdAAAAHAAAABwAAAAdAAAAIQAAABQAAAAdAAAAHQAAAB0AAAAVAAAAEgAAAB8AAAAWAAAAFAAAACAAAAAZAAAAFAAAABMAAAAgAAAAFAAAABMAAAAUAAAAHgAAABRzdGNvAAAAAAAAAAEAAAAwAAAAYnVkdGEAAABabWV0YQAAAAAAAAAhaGRscgAAAAAAAAAAbWRpcmFwcGwAAAAAAAAAAAAAAAAtaWxzdAAAACWpdG9vAAAAHWRhdGEAAAABAAAAAExhdmY1OC4xMi4xMDA=\" type=\"video/mp4\" />\n",
       "             </video>"
      ],
      "text/plain": [
       "<IPython.core.display.HTML object>"
      ]
     },
     "execution_count": 47,
     "metadata": {},
     "output_type": "execute_result"
    }
   ],
   "source": [
    "# Training\n",
    "env = EnvironmentExploring(grid_size=size, max_time=T, temperature=0.3)\n",
    "#env = Environment(grid_size=size, max_time=T, temperature=0.3)\n",
    "agent = DQN_CNN(size, lr=.1, epsilon = 0.1, memory_size=2000, batch_size = 32,n_state=3)\n",
    "#agent = DQN_CNN(size, lr=.1, epsilon = 0.1, memory_size=2000, batch_size = 32)\n",
    "train_explore(agent, env, epochs_train, prefix='cnn_train_explore')\n",
    "HTML(display_videos('cnn_train_explore10.mp4'))"
   ]
  },
  {
   "cell_type": "code",
   "execution_count": 48,
   "metadata": {},
   "outputs": [
    {
     "data": {
      "text/html": [
       "<video alt=\"test\" controls>\n",
       "                <source src=\"data:video/mp4;base64,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\" type=\"video/mp4\" />\n",
       "             </video>"
      ],
      "text/plain": [
       "<IPython.core.display.HTML object>"
      ]
     },
     "execution_count": 48,
     "metadata": {},
     "output_type": "execute_result"
    }
   ],
   "source": [
    "HTML(display_videos('cnn_train_explore90.mp4'))"
   ]
  },
  {
   "cell_type": "code",
   "execution_count": 49,
   "metadata": {},
   "outputs": [
    {
     "name": "stdout",
     "output_type": "stream",
     "text": [
      "Win/lose count 13.0/1.0. Average score (12.0)\n",
      "Win/lose count 25.0/5.0. Average score (16.0)\n",
      "Win/lose count 21.5/6.0. Average score (15.833333333333334)\n",
      "Win/lose count 21.5/0. Average score (17.25)\n",
      "Win/lose count 27.5/5.0. Average score (18.3)\n",
      "Win/lose count 23.5/9.0. Average score (17.666666666666668)\n",
      "Win/lose count 25.5/3.0. Average score (18.357142857142858)\n",
      "Win/lose count 28.0/4.0. Average score (19.0625)\n",
      "Win/lose count 27.0/6.0. Average score (19.27777777777778)\n",
      "Win/lose count 24.5/6.0. Average score (19.2)\n",
      "Win/lose count 22.0/1.0. Average score (19.363636363636363)\n",
      "Win/lose count 24.0/5.0. Average score (19.333333333333332)\n",
      "Win/lose count 23.5/2.0. Average score (19.5)\n",
      "Win/lose count 23.5/6.0. Average score (19.357142857142858)\n",
      "Win/lose count 23.5/5.0. Average score (19.3)\n",
      "Win/lose count 24.5/2.0. Average score (19.5)\n",
      "Win/lose count 26.5/3.0. Average score (19.735294117647058)\n",
      "Win/lose count 27.5/3.0. Average score (20.0)\n",
      "Win/lose count 25.5/0. Average score (20.289473684210527)\n",
      "Win/lose count 25.0/3.0. Average score (20.375)\n",
      "Final score: 20.375\n"
     ]
    },
    {
     "data": {
      "text/html": [
       "<video alt=\"test\" controls>\n",
       "                <source src=\"data:video/mp4;base64,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\" type=\"video/mp4\" />\n",
       "             </video>"
      ],
      "text/plain": [
       "<IPython.core.display.HTML object>"
      ]
     },
     "execution_count": 49,
     "metadata": {},
     "output_type": "execute_result"
    }
   ],
   "source": [
    "# Evaluation\n",
    "test(agent,env,epochs_test,prefix='cnn_test_explore')\n",
    "HTML(display_videos('cnn_test_explore10.mp4'))"
   ]
  },
  {
   "cell_type": "markdown",
   "metadata": {},
   "source": [
    "***\n",
    "***\n",
    "__BONUS question__ Use the expert DQN from the previous question to generate some winning games. Train a model that mimicks its behavior. Compare the performances."
   ]
  },
  {
   "cell_type": "markdown",
   "metadata": {},
   "source": []
  },
  {
   "cell_type": "markdown",
   "metadata": {},
   "source": [
    "***"
   ]
  }
 ],
 "metadata": {
  "kernelspec": {
   "display_name": "Python 3",
   "language": "python",
   "name": "python3"
  },
  "language_info": {
   "codemirror_mode": {
    "name": "ipython",
    "version": 3
   },
   "file_extension": ".py",
   "mimetype": "text/x-python",
   "name": "python",
   "nbconvert_exporter": "python",
   "pygments_lexer": "ipython3",
   "version": "3.6.8"
  }
 },
 "nbformat": 4,
 "nbformat_minor": 2
}
